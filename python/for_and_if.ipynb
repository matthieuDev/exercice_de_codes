{
 "cells": [
  {
   "cell_type": "markdown",
   "id": "42fef959",
   "metadata": {},
   "source": [
    "Si tu veux essayer de jouer un peu avec du python, je te conseille de lancer un invité de commande (tu peux le chercher dans la barre de recherche windows) et d'essayer des trucs de ton coté\n",
    "\n",
    "Pour les exercices, la plupart ont des None. Les None est une valeur null, c'est une valeur pour un élément que tu considères sans valeur. Cela veut dire que la plupart des exercices lanceront une erreur si tu les lances tel quel.\n",
    "\n",
    "\\____\\______\\________\\_______\\______\\_______\\_\n",
    "\n",
    "Si tu te retrouves avec quelque chose du genre\n",
    "\n",
    "\\-------------\\\n",
    "Error&emsp;&emsp;&emsp;&emsp;&emsp;&emsp;&emsp;&emsp;Traceback (most recent call last)\\\n",
    "Cell In [12], line 1\n",
    "\n",
    "Cela veut dire qu'il y a une erreur dans ton code et qu'il ne marche pas. Dans ce cas je te considère de jeter un coup d'oeil au 8.1 et 8.2 de ceci: https://docs.python.org/fr/3/tutorial/errors.html et sinon de chercher l'erreur sur google\n",
    "\n",
    "\\____\\______\\________\\_______\\______\\_______\\_\n",
    "\n",
    "Jupyter notebook (le site suer lequel tu es) marche avec des cases (ou cellules) qui permettent de faire marcher du code dans l'ordre que tu veux. Pour faire tourner du code, il faut aller sur une case et soit appuyer sur le bouton \"Run\" (avec la flèche) en haut, soit faire ctrl + enter soit faire majuscule + enter\n",
    "\n",
    "essaye sur la case juste en bas, si ça a marché, le résultat sous la case devrait changer, ne cherche pas à comprendre le code pour le moment (ou alors demande moi et je t'expliquerai)"
   ]
  },
  {
   "cell_type": "code",
   "execution_count": 80,
   "id": "651756e0",
   "metadata": {},
   "outputs": [
    {
     "data": {
      "text/plain": [
       "0.8002814960126615"
      ]
     },
     "execution_count": 80,
     "metadata": {},
     "output_type": "execute_result"
    }
   ],
   "source": [
    "import random\n",
    "random.random()"
   ]
  },
  {
   "cell_type": "markdown",
   "id": "7c9259db",
   "metadata": {},
   "source": [
    "Si les cases de textes deviennent comme ça et que tu veux les changer en plus lisible, il faut aussi les run,\n",
    "\n",
    "Essaye de run celle là pour la remettre dans un format un peu plus lisible"
   ]
  },
  {
   "cell_type": "markdown",
   "id": "95776cdb",
   "metadata": {},
   "source": [
    "En juypter notebook, il y a 2 moyen d'afficher des éléments du code. Le 1er est d'utiliser un print qui va afficher l'élément dans le print en bas.\n",
    "\n",
    "Le second est de mettre un élément tout en bas d'une case. Dans un script normal cette option n'existe pas, mais dans jupyter c'est comme ça que ça marche"
   ]
  },
  {
   "cell_type": "code",
   "execution_count": 1,
   "id": "b46176ec",
   "metadata": {},
   "outputs": [
    {
     "name": "stdout",
     "output_type": "stream",
     "text": [
      "il faut mettre ce que tu veux afficher entre parenthèses et ça va automatiquement print\n",
      "tu peux 5 aussi print plusieurs éléments dans un même print si tu les sépares avec des , 5 -9\n"
     ]
    },
    {
     "data": {
      "text/plain": [
       "\"si tu mets à la fin ça s'affiche\""
      ]
     },
     "execution_count": 1,
     "metadata": {},
     "output_type": "execute_result"
    }
   ],
   "source": [
    "print('il faut mettre ce que tu veux afficher entre parenthèses et ça va automatiquement print')\n",
    "print('tu peux', 5, 'aussi print plusieurs éléments dans un même print si tu les sépares avec des ,', 5 , -9)\n",
    "\"par contre si tu mets pas en print, ça ne s'affiche pas\"\n",
    "\"si tu mets à la fin ça s'affiche\""
   ]
  },
  {
   "cell_type": "markdown",
   "id": "8185c479",
   "metadata": {},
   "source": [
    "Python est un programme qui peut quasiment tout faire à part des interfaces html (et encore ...)\n",
    "\n",
    "On va commencer par des exercices avec des boucles for et des if pour être sûr d'avoir les bases."
   ]
  },
  {
   "cell_type": "markdown",
   "id": "af1daef8",
   "metadata": {},
   "source": [
    "# Types"
   ]
  },
  {
   "cell_type": "markdown",
   "id": "50c3b15a",
   "metadata": {},
   "source": [
    "Les types, c'est le type de valeur d'une variable ou d'un élément du code.\n",
    "\n",
    "Il y a plusieurs types sur python, on va commencer par les basiques\n",
    "\n",
    "Pour commencer on a les nombres, ils sont divisés en 2 les integer (entiers) = les nombres sans virgules 1 8 -3\n",
    "\n",
    "Et les float (les nombres avec des chiffres après la virgule) = les nombres avec des virgules 8.1, 9.0003, -0.00001"
   ]
  },
  {
   "cell_type": "code",
   "execution_count": 3,
   "id": "5694c9c7",
   "metadata": {},
   "outputs": [
    {
     "data": {
      "text/plain": [
       "(1, 2, 3, 4, 0.2, 0.05)"
      ]
     },
     "execution_count": 3,
     "metadata": {},
     "output_type": "execute_result"
    }
   ],
   "source": [
    "1, 2 , 3 , 4 ,0.2, 0.05"
   ]
  },
  {
   "cell_type": "markdown",
   "id": "530d09cc",
   "metadata": {},
   "source": [
    "Ensuite on a les string qui sont du texte. Un texte en python, si tu veux que ça soit vu comme du texte et non comme une instruction donnée au code, il faut le mettre entre ' ou entre \""
   ]
  },
  {
   "cell_type": "code",
   "execution_count": 4,
   "id": "d61cf23b",
   "metadata": {},
   "outputs": [
    {
     "data": {
      "text/plain": [
       "('bounjour', 'le', 'monde')"
      ]
     },
     "execution_count": 4,
     "metadata": {},
     "output_type": "execute_result"
    }
   ],
   "source": [
    "'bounjour', 'le', \"monde\", \"si tu as un type de guillemets, tu peux utiliser l'autre dans le string ''''''\""
   ]
  },
  {
   "cell_type": "markdown",
   "id": "ef829261",
   "metadata": {},
   "source": [
    "Et enfin on a les listes qui sont une suites d'éléments (nombres string ou autre) dans un ordre donné"
   ]
  },
  {
   "cell_type": "code",
   "execution_count": 5,
   "id": "b7880dc4",
   "metadata": {},
   "outputs": [
    {
     "data": {
      "text/plain": [
       "[1, 2, 3, 4, 5]"
      ]
     },
     "execution_count": 5,
     "metadata": {},
     "output_type": "execute_result"
    }
   ],
   "source": [
    "[1, 2, 3, 4, 5]"
   ]
  },
  {
   "cell_type": "markdown",
   "id": "d35862de",
   "metadata": {},
   "source": [
    "Tous ces éléments peuvent être assigné à des noms qui permettent de réutiliser, on appelle ça des variables. Par exemple en assignant un int à \"a\", on peut ensuite le réutiliser plusieurs fois"
   ]
  },
  {
   "cell_type": "code",
   "execution_count": 6,
   "id": "628335b1",
   "metadata": {},
   "outputs": [
    {
     "data": {
      "text/plain": [
       "(5, 5, 5)"
      ]
     },
     "execution_count": 6,
     "metadata": {},
     "output_type": "execute_result"
    }
   ],
   "source": [
    "a = 5\n",
    "a, a, a"
   ]
  },
  {
   "cell_type": "markdown",
   "id": "14978d25",
   "metadata": {},
   "source": [
    "Une fois que tu as une liste, tu peux récupérer un élément en utilisant [..] avec un chiffre au milieux. Si tu veux le premier élément tu fais [0], si tu veux le 2 tu fais [1].\n",
    "\n",
    "ATTENTION donc le comptage commence à 0 et pas à 1"
   ]
  },
  {
   "cell_type": "code",
   "execution_count": 1,
   "id": "ea935745",
   "metadata": {},
   "outputs": [
    {
     "data": {
      "text/plain": [
       "2"
      ]
     },
     "execution_count": 1,
     "metadata": {},
     "output_type": "execute_result"
    }
   ],
   "source": [
    "a = [0, 1, 2, 3, 4]\n",
    "a[2]"
   ]
  },
  {
   "cell_type": "markdown",
   "id": "22a7c2b3",
   "metadata": {},
   "source": [
    "Tu peux passer d'un string à un nombre et inversement en faisant ce qu'on appelle un cast de type.\n",
    "\n",
    "par exemple tu peux transformer un nombre en string en utilisant str(...)"
   ]
  },
  {
   "cell_type": "code",
   "execution_count": 10,
   "id": "faaf8f22",
   "metadata": {},
   "outputs": [
    {
     "name": "stdout",
     "output_type": "stream",
     "text": [
      "pour le moment ce sont 3 nombres: 1 2 3\n"
     ]
    },
    {
     "data": {
      "text/plain": [
       "('1', '2', '3')"
      ]
     },
     "execution_count": 10,
     "metadata": {},
     "output_type": "execute_result"
    }
   ],
   "source": [
    "a,b,c = 1,2,3 \n",
    "#pour le moment ce sont 3 nombres\n",
    "print('pour le moment ce sont 3 nombres:', a,b,c)\n",
    "# mais avec un str tu peux les transformer en text\n",
    "str(a), str(b), str(c)\n"
   ]
  },
  {
   "cell_type": "markdown",
   "id": "6ca3f671",
   "metadata": {},
   "source": [
    "Et pour passer de string à nombre entier c'est int et à nombre avec virgule c'est float\n",
    "\n",
    "Attention si tu essayes de transformer un texte qui n'est pas un nombre en nombre, tu vas avoir une  erreur "
   ]
  },
  {
   "cell_type": "code",
   "execution_count": 13,
   "id": "6c6790a5",
   "metadata": {},
   "outputs": [
    {
     "data": {
      "text/plain": [
       "(1, 2, 3)"
      ]
     },
     "execution_count": 13,
     "metadata": {},
     "output_type": "execute_result"
    }
   ],
   "source": [
    "#pour le moment c'est du texte\n",
    "a,b,c = '1','2','3' \n",
    "#mais on peut les transformer en nombre entier\n",
    "int(a), int(b), int(c)"
   ]
  },
  {
   "cell_type": "code",
   "execution_count": 14,
   "id": "5e9df2a4",
   "metadata": {},
   "outputs": [
    {
     "data": {
      "text/plain": [
       "(1.0, 2.0, 3.0, 4.0)"
      ]
     },
     "execution_count": 14,
     "metadata": {},
     "output_type": "execute_result"
    }
   ],
   "source": [
    "d = '4.0' #un 4 exemple avec un nombre à virgule\n",
    "#et on peut aussi les transformer en nombre à virgules\n",
    "float(a), float(b), float(c), float(d)"
   ]
  },
  {
   "cell_type": "code",
   "execution_count": 15,
   "id": "6aa91599",
   "metadata": {},
   "outputs": [
    {
     "ename": "ValueError",
     "evalue": "invalid literal for int() with base 10: '4.0'",
     "output_type": "error",
     "traceback": [
      "\u001b[1;31m---------------------------------------------------------------------------\u001b[0m",
      "\u001b[1;31mValueError\u001b[0m                                Traceback (most recent call last)",
      "Cell \u001b[1;32mIn [15], line 2\u001b[0m\n\u001b[0;32m      1\u001b[0m \u001b[38;5;66;03m#par contre attention, on ne peut pas transformer les string de nombres à virgulkes en nombre sans virgule\u001b[39;00m\n\u001b[1;32m----> 2\u001b[0m \u001b[38;5;28;43mint\u001b[39;49m\u001b[43m(\u001b[49m\u001b[38;5;124;43m'\u001b[39;49m\u001b[38;5;124;43m4.0\u001b[39;49m\u001b[38;5;124;43m'\u001b[39;49m\u001b[43m)\u001b[49m\n",
      "\u001b[1;31mValueError\u001b[0m: invalid literal for int() with base 10: '4.0'"
     ]
    }
   ],
   "source": [
    "#par contre attention, on ne peut pas transformer les string de nombres à virgules en nombre sans virgule\n",
    "int('4.0')"
   ]
  },
  {
   "cell_type": "code",
   "execution_count": 16,
   "id": "7074f98c",
   "metadata": {},
   "outputs": [
    {
     "ename": "ValueError",
     "evalue": "invalid literal for int() with base 10: \"Que fais-tu ? C'est du text pas un nombre\"",
     "output_type": "error",
     "traceback": [
      "\u001b[1;31m---------------------------------------------------------------------------\u001b[0m",
      "\u001b[1;31mValueError\u001b[0m                                Traceback (most recent call last)",
      "Cell \u001b[1;32mIn [16], line 2\u001b[0m\n\u001b[0;32m      1\u001b[0m \u001b[38;5;66;03m#Et bien sur on ne peut pas transformer du text en nombre\u001b[39;00m\n\u001b[1;32m----> 2\u001b[0m \u001b[38;5;28;43mint\u001b[39;49m\u001b[43m(\u001b[49m\u001b[38;5;124;43m\"\u001b[39;49m\u001b[38;5;124;43mQue fais-tu ? C\u001b[39;49m\u001b[38;5;124;43m'\u001b[39;49m\u001b[38;5;124;43mest du text pas un nombre\u001b[39;49m\u001b[38;5;124;43m\"\u001b[39;49m\u001b[43m)\u001b[49m\n",
      "\u001b[1;31mValueError\u001b[0m: invalid literal for int() with base 10: \"Que fais-tu ? C'est du text pas un nombre\""
     ]
    }
   ],
   "source": [
    "#Et bien sur on ne peut pas transformer du text en nombre\n",
    "int(\"Que fais-tu ? C'est du text pas un nombre\")"
   ]
  },
  {
   "cell_type": "code",
   "execution_count": 20,
   "id": "3192945f",
   "metadata": {},
   "outputs": [
    {
     "name": "stdout",
     "output_type": "stream",
     "text": [
      "1.0 -5.0\n"
     ]
    }
   ],
   "source": [
    "#tu peux aussi transformer des nombres entiers en nombres à virgules avec float\n",
    "print(float(1), float(-5))\n"
   ]
  },
  {
   "cell_type": "code",
   "execution_count": 21,
   "id": "95f0d6fa",
   "metadata": {},
   "outputs": [
    {
     "name": "stdout",
     "output_type": "stream",
     "text": [
      "1 -5 1 0\n"
     ]
    }
   ],
   "source": [
    "#et inversement avec int mais dans ce cas là, la valeur après la virgule disparaît\n",
    "print(int(1.0), int(-5.0), int(1.9), int(-0.1))"
   ]
  },
  {
   "cell_type": "markdown",
   "id": "9596b7e7",
   "metadata": {},
   "source": [
    "Durant ces exercices, je vais faire des commentaires sur le code, donc c'est le bon moment pour introduire les commentaires. Ce sont des textes qui sont ignorés par le code qui permettent de donner des info aux personnes qui les lisent. Toute élément sur une ligne après un # (qui n'est pas dans un string) est un commentaire"
   ]
  },
  {
   "cell_type": "code",
   "execution_count": 7,
   "id": "37ecfab9",
   "metadata": {},
   "outputs": [
    {
     "data": {
      "text/plain": [
       "(5,\n",
       " 'par contre je peux écrire un # dans un string sans que ça crée un commentaire')"
      ]
     },
     "execution_count": 7,
     "metadata": {},
     "output_type": "execute_result"
    }
   ],
   "source": [
    "a = 5 #je peux mettre un commentaire après  l'action à faire et ça ne la gène pas\n",
    "# a = 6 :  ce n'est pas considéré par le code car il y a un # au début\n",
    "a, 'par contre je peux écrire un # dans un string sans que ça crée un commentaire'"
   ]
  },
  {
   "cell_type": "markdown",
   "id": "07658e53",
   "metadata": {},
   "source": [
    "Ensuite tu peux faire des opérations sur des chiffres :\n",
    "\n",
    "- La multiplication *\n",
    "- La division avec /\n",
    "- l'addition avec +\n",
    "- la soustraction avec -"
   ]
  },
  {
   "cell_type": "code",
   "execution_count": 10,
   "id": "f42520f9",
   "metadata": {},
   "outputs": [
    {
     "data": {
      "text/plain": [
       "(2, 1, 6, 4.0)"
      ]
     },
     "execution_count": 10,
     "metadata": {},
     "output_type": "execute_result"
    }
   ],
   "source": [
    "a = 1 + 1 # = 2\n",
    "b = 2 - 1 # = 1\n",
    "c = 2 * 3 # = 6\n",
    "d = 8 / 2 # = 4\n",
    "a, b, c, d"
   ]
  },
  {
   "cell_type": "markdown",
   "id": "59f4e202",
   "metadata": {},
   "source": [
    "Il y a un ordre des opérations: \n",
    "\n",
    "d'abord on fait les multiplications et les divisions de gauche à droite\n",
    "\n",
    "puis on fait les additions et soustractions de gauche à droite"
   ]
  },
  {
   "cell_type": "code",
   "execution_count": 81,
   "id": "8c441e8f",
   "metadata": {},
   "outputs": [
    {
     "name": "stdout",
     "output_type": "stream",
     "text": [
      "1\n"
     ]
    }
   ],
   "source": [
    "print(4 - 1 * 3) #par exemple ici on fait d’abord la multiplication et ensuite la soustraction"
   ]
  },
  {
   "cell_type": "markdown",
   "id": "8d8b3653",
   "metadata": {},
   "source": [
    "Tu peux aussi fusionner du texte en utilisant une addition de texte"
   ]
  },
  {
   "cell_type": "code",
   "execution_count": 11,
   "id": "ac518b61",
   "metadata": {},
   "outputs": [
    {
     "data": {
      "text/plain": [
       "'partie 1 partie 2'"
      ]
     },
     "execution_count": 11,
     "metadata": {},
     "output_type": "execute_result"
    }
   ],
   "source": [
    "'partie 1' + ' partie 2'"
   ]
  },
  {
   "cell_type": "markdown",
   "id": "04b51ba5",
   "metadata": {},
   "source": [
    "Mais tu ne peux pas additionner du texte et des nombres"
   ]
  },
  {
   "cell_type": "code",
   "execution_count": 12,
   "id": "553dbff1",
   "metadata": {},
   "outputs": [
    {
     "ename": "TypeError",
     "evalue": "can only concatenate str (not \"int\") to str",
     "output_type": "error",
     "traceback": [
      "\u001b[1;31m---------------------------------------------------------------------------\u001b[0m",
      "\u001b[1;31mTypeError\u001b[0m                                 Traceback (most recent call last)",
      "Cell \u001b[1;32mIn [12], line 1\u001b[0m\n\u001b[1;32m----> 1\u001b[0m \u001b[38;5;124;43m'\u001b[39;49m\u001b[38;5;124;43mlol\u001b[39;49m\u001b[38;5;124;43m'\u001b[39;49m\u001b[43m \u001b[49m\u001b[38;5;241;43m+\u001b[39;49m\u001b[43m \u001b[49m\u001b[38;5;241;43m1\u001b[39;49m\n",
      "\u001b[1;31mTypeError\u001b[0m: can only concatenate str (not \"int\") to str"
     ]
    }
   ],
   "source": [
    "'lol' + 1"
   ]
  },
  {
   "cell_type": "code",
   "execution_count": 1,
   "id": "6281e9a9",
   "metadata": {},
   "outputs": [
    {
     "data": {
      "text/plain": [
       "'lol1'"
      ]
     },
     "execution_count": 1,
     "metadata": {},
     "output_type": "execute_result"
    }
   ],
   "source": [
    "#Pour pouvoir ajouter le int au string, il faut le cast en string\n",
    "'lol' + str(1)"
   ]
  },
  {
   "cell_type": "markdown",
   "id": "12da1fe0",
   "metadata": {},
   "source": [
    "tu peux faire la même chose pour fusionner des listes entre elles"
   ]
  },
  {
   "cell_type": "code",
   "execution_count": 32,
   "id": "8d363cb8",
   "metadata": {},
   "outputs": [
    {
     "name": "stdout",
     "output_type": "stream",
     "text": [
      "[1, 2, 3, 4, 5, 6]\n",
      "['a', 'b', 'c', 'd']\n"
     ]
    }
   ],
   "source": [
    "print([1,2,3] + [4,5,6])\n",
    "print(['a', 'b', 'c'] + ['d']) #petite remarque ici, tu peux ajouter des éléments un par un , ça sera util pour plus tard"
   ]
  },
  {
   "cell_type": "markdown",
   "id": "422529a5",
   "metadata": {},
   "source": [
    "Tu répéter des listes ou des strings en lée multipliant par un nombre entier"
   ]
  },
  {
   "cell_type": "code",
   "execution_count": 14,
   "id": "f948d413",
   "metadata": {},
   "outputs": [
    {
     "data": {
      "text/plain": [
       "'ahahah'"
      ]
     },
     "execution_count": 14,
     "metadata": {},
     "output_type": "execute_result"
    }
   ],
   "source": [
    "'ah' * 3"
   ]
  },
  {
   "cell_type": "code",
   "execution_count": 15,
   "id": "ab30e204",
   "metadata": {},
   "outputs": [
    {
     "data": {
      "text/plain": [
       "['ah', 'ah', 'ah']"
      ]
     },
     "execution_count": 15,
     "metadata": {},
     "output_type": "execute_result"
    }
   ],
   "source": [
    "['ah'] * 3"
   ]
  },
  {
   "cell_type": "markdown",
   "id": "09231947",
   "metadata": {},
   "source": [
    "pour organiser les expressions on peut aussi utiliser des parenthèses, les opérations faites entre parenthèses seront faites avant les opérations hors divisions."
   ]
  },
  {
   "cell_type": "code",
   "execution_count": 83,
   "id": "bc9b61ba",
   "metadata": {},
   "outputs": [
    {
     "name": "stdout",
     "output_type": "stream",
     "text": [
      "24.0\n",
      "5.25\n",
      "0.8333333333333334\n",
      "24.0\n"
     ]
    }
   ],
   "source": [
    "print(10 / 2 * 4 + 4) #ici l'ordre c'est d'abord la division puis la division et à la fin l'addition\n",
    "print(10 / (2 * 4) + 4) #ici l'ordre change on commence par * car elle est entre parenthèses, puis la / puis -\n",
    "print(10 / ((2 * 4) + 4)) #on peut mettre plusieurs parenthèses, maintenant c'est * puis - puis /\n",
    "print((10 / 2) * 4 + 4) #ici l'ordre ne change pas car on mis les parenthèses autour de l'opération prioritaire"
   ]
  },
  {
   "cell_type": "markdown",
   "id": "1996735e",
   "metadata": {},
   "source": [
    "# Ex 1"
   ]
  },
  {
   "cell_type": "markdown",
   "id": "aed65a78",
   "metadata": {},
   "source": [
    "#1 Remplace les None par les valeurs demandés dans le commentaire juste devant.\n",
    "\n",
    "Une fois fait clique dans la fenêtre où tu as écrit les résultats et appuie sur ctrl + entrée pour voir si les résultats matchent avec ce qui est demandé"
   ]
  },
  {
   "cell_type": "code",
   "execution_count": 23,
   "id": "6843935d",
   "metadata": {},
   "outputs": [
    {
     "data": {
      "text/plain": [
       "(1, None, None, None)"
      ]
     },
     "execution_count": 23,
     "metadata": {},
     "output_type": "execute_result"
    }
   ],
   "source": [
    "a = 1 # 1 exemple ici, on assigne à a la valeur 1\n",
    "b = None # 0\n",
    "c = None # 2.5\n",
    "d = None # le texte : \"Bonjour\"\n",
    "a, b, c, d"
   ]
  },
  {
   "cell_type": "markdown",
   "id": "832772b8",
   "metadata": {},
   "source": [
    "(1, 0, 2.5, 'Bonjour')\n",
    "\n",
    "Sont les résultats attendus"
   ]
  },
  {
   "cell_type": "markdown",
   "id": "a7b4f6ce",
   "metadata": {},
   "source": [
    "#2 Ici remplace les None par une opérations entre a et b. Il est interdit de remplacer le None par le résultat final"
   ]
  },
  {
   "cell_type": "code",
   "execution_count": 25,
   "id": "da7490e1",
   "metadata": {},
   "outputs": [
    {
     "name": "stdout",
     "output_type": "stream",
     "text": [
      "None\n",
      "None\n",
      "None\n",
      "None\n"
     ]
    }
   ],
   "source": [
    "a, b = 4, 8\n",
    "print(None) # a plus b\n",
    "print(None) # a moins b\n",
    "print(None) # a multiplié par b\n",
    "print(None) # a divisé par b"
   ]
  },
  {
   "cell_type": "markdown",
   "id": "2a4e40c5",
   "metadata": {},
   "source": [
    "12\\\n",
    "-4\\\n",
    "32\\\n",
    "0.5\n",
    "\n",
    "Sont les résultats attendus"
   ]
  },
  {
   "cell_type": "markdown",
   "id": "6f275000",
   "metadata": {},
   "source": [
    "#3 En utilisant une addition de string, fusionne les 2 strings a et b"
   ]
  },
  {
   "cell_type": "code",
   "execution_count": 2,
   "id": "66993794",
   "metadata": {},
   "outputs": [],
   "source": [
    "a, b = 'partie1', 'partie2'\n",
    "None#Remplace le none par l'opération demandé"
   ]
  },
  {
   "cell_type": "markdown",
   "id": "701613e5",
   "metadata": {},
   "source": [
    "'partie1partie2'\n",
    "\n",
    "est le résultat attendu"
   ]
  },
  {
   "cell_type": "markdown",
   "id": "75c5a87e",
   "metadata": {},
   "source": [
    "#4 remplace le None de façon à répéter la string 4 fois"
   ]
  },
  {
   "cell_type": "code",
   "execution_count": null,
   "id": "98a8e1c9",
   "metadata": {},
   "outputs": [],
   "source": [
    "'ah' * None"
   ]
  },
  {
   "cell_type": "markdown",
   "id": "fa60c412",
   "metadata": {},
   "source": [
    "'ahahahah'"
   ]
  },
  {
   "cell_type": "markdown",
   "id": "2fe3e18d",
   "metadata": {},
   "source": [
    "#5 remplace le None entre [] pour retourner le string 'bravo'"
   ]
  },
  {
   "cell_type": "code",
   "execution_count": null,
   "id": "dd77ac46",
   "metadata": {},
   "outputs": [],
   "source": [
    "a = ['raté0', 'raté1', 'bravo', 'raté3', 'raté4']\n",
    "a[None]"
   ]
  },
  {
   "cell_type": "markdown",
   "id": "79a467f7",
   "metadata": {},
   "source": [
    "Résultat attendus:\n",
    "\n",
    "'bravo'"
   ]
  },
  {
   "cell_type": "markdown",
   "id": "ccba74f1",
   "metadata": {},
   "source": [
    "Sur les lignes avec des commentaires, ajoute des parenthèses de façon à avoir le résultat demandé par le commentaire. \n",
    "\n",
    "Ne change rien au reste de la ligne"
   ]
  },
  {
   "cell_type": "code",
   "execution_count": null,
   "id": "ce4d7293",
   "metadata": {},
   "outputs": [],
   "source": [
    "print(2 * 2 + 4)\n",
    "print(2 * 2 + 4) #10\n",
    "print(2 - 1 + 1)\n",
    "print(2 - 1 + 1) #0\n",
    "print('a' + 'h' * 4)\n",
    "print('a' + 'h' * 4) #'ahahahah'"
   ]
  },
  {
   "cell_type": "markdown",
   "id": "174c672c",
   "metadata": {},
   "source": [
    "Résultat attendus:\n",
    "\n",
    "5\\\n",
    "10\\\n",
    "2\\\n",
    "0\\\n",
    "ahhhh\\\n",
    "ahahahah"
   ]
  },
  {
   "cell_type": "markdown",
   "id": "ede07a92",
   "metadata": {},
   "source": [
    "# Boucles for"
   ]
  },
  {
   "cell_type": "markdown",
   "id": "8e3ee87d",
   "metadata": {},
   "source": [
    "Les boucles for permettent de faire la même opérations plusieurs fois et donc de l'automatiser. "
   ]
  },
  {
   "cell_type": "code",
   "execution_count": 24,
   "id": "3aad9a48",
   "metadata": {},
   "outputs": [
    {
     "name": "stdout",
     "output_type": "stream",
     "text": [
      "1\n",
      "2\n",
      "3\n",
      "4\n",
      "5\n",
      "6\n",
      "7\n",
      "8\n",
      "9\n"
     ]
    }
   ],
   "source": [
    "#Plutôt que de faire cette méthode qui copie colle et n'est pas facilement changeable avec des variables\n",
    "print(1)\n",
    "print(2)\n",
    "print(3)\n",
    "print(4)\n",
    "print(5)\n",
    "print(6)\n",
    "print(7)\n",
    "print(8)\n",
    "print(9)"
   ]
  },
  {
   "cell_type": "code",
   "execution_count": 27,
   "id": "904edeec",
   "metadata": {},
   "outputs": [
    {
     "name": "stdout",
     "output_type": "stream",
     "text": [
      "itération 1\n",
      "itération 2\n",
      "itération 3\n",
      "itération 4\n",
      "itération 5\n",
      "itération 6\n",
      "itération 7\n",
      "itération 8\n",
      "itération 9\n"
     ]
    }
   ],
   "source": [
    "#On utilise une boucle for (c'est un exemple les détails viennent juste après)\n",
    "for i in range(1, 10) :\n",
    "    print('itération', i)"
   ]
  },
  {
   "cell_type": "markdown",
   "id": "5b661b4b",
   "metadata": {},
   "source": [
    "\n",
    "\n",
    "Une boucle for marche de cette façon:\n",
    "\n",
    "for ... in ... :\\\n",
    "&emsp;#fait quelque chose\n",
    "\n",
    "le for ... in ... ça se traduit par pour ... dans ...\n",
    "\n",
    "On va y revenir bientôt mais remarque déjà qu'il y a des espaces avant le #fait quelque chose\n",
    "\n",
    "Chaque fois que tous les éléments mis dans le codes sont faits pour une des valeurs de la boucle, on appelle ça un itération\n",
    "\n",
    "Tu peux soit faire cela sur une liste"
   ]
  },
  {
   "cell_type": "code",
   "execution_count": 32,
   "id": "d463715f",
   "metadata": {},
   "outputs": [
    {
     "name": "stdout",
     "output_type": "stream",
     "text": [
      "itération 1\n",
      "itération 2\n",
      "itération 3\n",
      "itération 4\n"
     ]
    }
   ],
   "source": [
    "for i in [1, 2, 3, 4] :\n",
    "    print('itération', i)"
   ]
  },
  {
   "cell_type": "markdown",
   "id": "cd5810da",
   "metadata": {},
   "source": [
    "Ou sur une suite de nombre. Dans ce langage pour faire des boucles for sur une liste de nombres on utilise range. Si on lui donne un argument, il fait touts les nombres entiers entre 0 et le nombre juste avant le nombre mis en argument"
   ]
  },
  {
   "cell_type": "code",
   "execution_count": 17,
   "id": "bd641f35",
   "metadata": {},
   "outputs": [
    {
     "name": "stdout",
     "output_type": "stream",
     "text": [
      "0\n",
      "1\n",
      "2\n",
      "3\n",
      "4\n"
     ]
    }
   ],
   "source": [
    "for i in range(5):\n",
    "    print(i)"
   ]
  },
  {
   "cell_type": "markdown",
   "id": "5a843912",
   "metadata": {},
   "source": [
    "Si on met 2 nombres ça va faire du 1er nombre au nombre juste avant le 2e"
   ]
  },
  {
   "cell_type": "code",
   "execution_count": 18,
   "id": "83b2f247",
   "metadata": {},
   "outputs": [
    {
     "name": "stdout",
     "output_type": "stream",
     "text": [
      "10\n",
      "11\n",
      "12\n",
      "13\n",
      "14\n"
     ]
    }
   ],
   "source": [
    "for i in range(10, 15):\n",
    "    print(i)"
   ]
  },
  {
   "cell_type": "markdown",
   "id": "13307274",
   "metadata": {},
   "source": [
    "Et si on met un 3e nombre, on peut choisir combien on bouge à chaque fois"
   ]
  },
  {
   "cell_type": "code",
   "execution_count": 19,
   "id": "cf1b91b9",
   "metadata": {},
   "outputs": [
    {
     "name": "stdout",
     "output_type": "stream",
     "text": [
      "10\n",
      "12\n",
      "14\n",
      "16\n",
      "18\n",
      "20\n"
     ]
    }
   ],
   "source": [
    "for i in range(10, 21, 2):\n",
    "    print(i) # à cause du 2 à la fin, ça bouge de 2 en 2"
   ]
  },
  {
   "cell_type": "markdown",
   "id": "64d9e6bf",
   "metadata": {},
   "source": [
    "python est un langage dont les blocs marchent en indentations. Pour les boucles for cela veut dire que, l'effet à faire dans la boucle doit avoir 4 espaces avant(pour aller plus vite, tu peux utiliser la touche tab : la flèche -> à gauche du clavier). Et tant qu'il y a des lignes avec ces espaces au début "
   ]
  },
  {
   "cell_type": "code",
   "execution_count": 29,
   "id": "45c1afbb",
   "metadata": {
    "scrolled": true
   },
   "outputs": [
    {
     "name": "stdout",
     "output_type": "stream",
     "text": [
      "ça va être répéter 3 fois\n",
      "ça aussi\n",
      "ça va être répéter 3 fois\n",
      "ça aussi\n",
      "ça va être répéter 3 fois\n",
      "ça aussi\n",
      "mais ça non parce qu'il y a plus d'espaces au début, ça sera fait à la fin de la boucle\n"
     ]
    }
   ],
   "source": [
    "for i in range(3) :\n",
    "    print('ça va être répéter 3 fois')\n",
    "    print('ça aussi')\n",
    "print(\"mais ça non parce qu'il y a plus d'espaces au début, ça sera fait à la fin de la boucle\")"
   ]
  },
  {
   "cell_type": "markdown",
   "id": "f5906da5",
   "metadata": {},
   "source": [
    "Tu peux aussi faire des boucles for, dans tes boucles for. On appelle cela des boucles for imbriqués. La 2e boucles (ici avec les abc) va se répéter pour chaque itération de la 1ère boucle (avec les range) \n",
    "\n",
    "Tu remarques que du coup dans la 2e boucles forts on a 8 (donc 2 fois 4) espaces avant les instructions."
   ]
  },
  {
   "cell_type": "code",
   "execution_count": 31,
   "id": "30466396",
   "metadata": {},
   "outputs": [
    {
     "name": "stdout",
     "output_type": "stream",
     "text": [
      "la boucle 2 commence\n",
      "2 a\n",
      "2 b\n",
      "2 c\n",
      "la boucle 2 se termine\n",
      "la boucle 3 commence\n",
      "3 a\n",
      "3 b\n",
      "3 c\n",
      "la boucle 3 se termine\n",
      "la boucle 4 commence\n",
      "4 a\n",
      "4 b\n",
      "4 c\n",
      "la boucle 4 se termine\n"
     ]
    }
   ],
   "source": [
    "for i in range(2, 5) :\n",
    "    print ('la boucle', i, 'commence')\n",
    "    for j in ['a', 'b', 'c'] :\n",
    "        print(i, j)\n",
    "    print ('la boucle', i, 'se termine')"
   ]
  },
  {
   "cell_type": "markdown",
   "id": "58cbe178",
   "metadata": {},
   "source": [
    "Il est aussi parfois util d'avoir une variable en dehors de la boucle qui va être changer à chaque itération. Pae exemple ici on va faire la somme des éléments qui sont dans une listes"
   ]
  },
  {
   "cell_type": "code",
   "execution_count": 2,
   "id": "2547b093",
   "metadata": {},
   "outputs": [
    {
     "data": {
      "text/plain": [
       "22"
      ]
     },
     "execution_count": 2,
     "metadata": {},
     "output_type": "execute_result"
    }
   ],
   "source": [
    "a = 0\n",
    "liste = [1, 5 ,6, 10]\n",
    "for element in liste :\n",
    "    a = a + element\n",
    "a # maintenant = 0 + 1 + 5 + 6 + 10 = 22"
   ]
  },
  {
   "cell_type": "markdown",
   "id": "654e9ad2",
   "metadata": {},
   "source": [
    "Note: pour aller plus vite on peut remplacer\n",
    "\n",
    "a = a + ...\n",
    "\n",
    "par\n",
    "\n",
    "a += ...\n",
    "\n",
    "(ça marche aussi avec *= , /= , -=) "
   ]
  },
  {
   "cell_type": "code",
   "execution_count": 3,
   "id": "b6ab2975",
   "metadata": {},
   "outputs": [
    {
     "data": {
      "text/plain": [
       "22"
      ]
     },
     "execution_count": 3,
     "metadata": {},
     "output_type": "execute_result"
    }
   ],
   "source": [
    "a = 0\n",
    "liste = [1, 5 ,6, 10]\n",
    "for element in liste :\n",
    "    a += element\n",
    "a # maintenant = 0 + 1 + 5 + 6 + 10 = 22"
   ]
  },
  {
   "cell_type": "markdown",
   "id": "f9bb3da7",
   "metadata": {},
   "source": [
    "# Ex2"
   ]
  },
  {
   "cell_type": "markdown",
   "id": "69bdfe5a",
   "metadata": {},
   "source": [
    "#1 Remplace le None dans le print pour printer tous les nombres entiers entre 0 et 5 (inclus)"
   ]
  },
  {
   "cell_type": "code",
   "execution_count": null,
   "id": "14af4d1f",
   "metadata": {},
   "outputs": [],
   "source": [
    "a = 5\n",
    "b = -5\n",
    "c = 'lol'\n",
    "for i in range(6) :\n",
    "    print(None)"
   ]
  },
  {
   "cell_type": "markdown",
   "id": "6a59d80a",
   "metadata": {},
   "source": [
    "Résultat attendus:\n",
    "\n",
    "0\\\n",
    "1\\\n",
    "2\\\n",
    "3\\\n",
    "4\\\n",
    "5"
   ]
  },
  {
   "cell_type": "markdown",
   "id": "115e34a0",
   "metadata": {},
   "source": [
    "#2 Remplace None dans le print pour printer lol 6 fois"
   ]
  },
  {
   "cell_type": "code",
   "execution_count": null,
   "id": "945d905b",
   "metadata": {},
   "outputs": [],
   "source": [
    "a = 5\n",
    "b = -5\n",
    "c = 'lol'\n",
    "for i in range(6) :\n",
    "    print(None)"
   ]
  },
  {
   "cell_type": "markdown",
   "id": "184ae962",
   "metadata": {},
   "source": [
    "Résultat attendus:\n",
    "\n",
    "lol\\\n",
    "lol\\\n",
    "lol\\\n",
    "lol\\\n",
    "lol\\\n",
    "lol"
   ]
  },
  {
   "cell_type": "markdown",
   "id": "45068c34",
   "metadata": {},
   "source": [
    "#3 Remplace le None par une liste de façon à ce que la case suivante print 1, 25 , -5, 'bonjour' (sur de lignes différentes)"
   ]
  },
  {
   "cell_type": "code",
   "execution_count": null,
   "id": "06d159bb",
   "metadata": {},
   "outputs": [],
   "source": [
    "for x in [None] :\n",
    "    print(x)"
   ]
  },
  {
   "cell_type": "markdown",
   "id": "bdfc087d",
   "metadata": {},
   "source": [
    "Résultat attendus:\n",
    "\n",
    "1\\\n",
    "25\\\n",
    "-5\\\n",
    "bonjour"
   ]
  },
  {
   "cell_type": "markdown",
   "id": "31d25686",
   "metadata": {},
   "source": [
    "#4 Remplace le None par une liste de façon à ce que la case suivante print 'a', 'b', 'c', 'd' (sur de lignes différentes)"
   ]
  },
  {
   "cell_type": "code",
   "execution_count": null,
   "id": "d713ad49",
   "metadata": {},
   "outputs": [],
   "source": [
    "for x in None :\n",
    "    print(x)"
   ]
  },
  {
   "cell_type": "markdown",
   "id": "3ae207fb",
   "metadata": {},
   "source": [
    "Résultat attendus:\n",
    "\n",
    "a\\\n",
    "b\\\n",
    "c\\\n",
    "d"
   ]
  },
  {
   "cell_type": "markdown",
   "id": "8d34bff3",
   "metadata": {},
   "source": [
    "#5 En remplaçant le None par un range (donc interdiction d'utiliser des listes [...]) print tous les nombres entre 0 et 7 (non inclus) c'est à dire 0, 1, 2, 3, 4, 5, 6"
   ]
  },
  {
   "cell_type": "code",
   "execution_count": null,
   "id": "c7267a19",
   "metadata": {},
   "outputs": [],
   "source": [
    "for x in None :\n",
    "    print(x)"
   ]
  },
  {
   "cell_type": "markdown",
   "id": "481da3e9",
   "metadata": {},
   "source": [
    "Résultat attendus:\n",
    "\n",
    "0\\\n",
    "1\\\n",
    "2\\\n",
    "3\\\n",
    "4\\\n",
    "5\\\n",
    "6"
   ]
  },
  {
   "cell_type": "markdown",
   "id": "0cd1125f",
   "metadata": {},
   "source": [
    "#6 En remplaçant le None par un range (donc interdiction d'utiliser des listes [...]) print tous les nombres entre 4 et 7 (non inclus) c'est à dire 4, 5, 6"
   ]
  },
  {
   "cell_type": "code",
   "execution_count": null,
   "id": "8763c3b3",
   "metadata": {},
   "outputs": [],
   "source": [
    "for x in None :\n",
    "    print(x)"
   ]
  },
  {
   "cell_type": "markdown",
   "id": "5ba53d64",
   "metadata": {},
   "source": [
    "Résultat attendus:\n",
    "\n",
    "4\\\n",
    "5\\\n",
    "6"
   ]
  },
  {
   "cell_type": "markdown",
   "id": "17655de0",
   "metadata": {},
   "source": [
    "#7 En remplaçant le None par un range (donc interdiction d'utiliser des listes [...]) print les nombres en commençant par 4 et en s'arrêtant avant 18 en allant de 3 en 3. C'est à dire 4, 7, 10, 13, 16"
   ]
  },
  {
   "cell_type": "code",
   "execution_count": null,
   "id": "5bb6a186",
   "metadata": {},
   "outputs": [],
   "source": [
    "for x in None :\n",
    "    print(x)"
   ]
  },
  {
   "cell_type": "markdown",
   "id": "a143dd21",
   "metadata": {},
   "source": [
    "Résultat attendus:\n",
    "\n",
    "4\\\n",
    "7\\\n",
    "10\\\n",
    "13\\\n",
    "16"
   ]
  },
  {
   "cell_type": "markdown",
   "id": "85a00bd6",
   "metadata": {},
   "source": [
    "#8 En remplaçant le None par un range (donc interdiction d'utiliser des listes [...]) print les nombres en commençant par 0 et en s'arrêtant avant 100 en allant de 25 en 25. C'est à dire 0, 25, 50, 75"
   ]
  },
  {
   "cell_type": "code",
   "execution_count": null,
   "id": "dfdc8b3b",
   "metadata": {},
   "outputs": [],
   "source": [
    "for x in None :\n",
    "    print(x)"
   ]
  },
  {
   "cell_type": "markdown",
   "id": "a9b071cd",
   "metadata": {},
   "source": [
    "Résultat attendus:\n",
    "\n",
    "0\\\n",
    "25\\\n",
    "50\\\n",
    "75"
   ]
  },
  {
   "cell_type": "markdown",
   "id": "d1fc2b10",
   "metadata": {},
   "source": [
    "#9 Sans regarder l'exemple donné plus haut, remplace le None par une ligne de commande pour qu'à la fin de la boucle for, a soit égal à la somme de la liste de la boucle for (donc a doit être égal à 10 c'est à dire à 1 + 2 + 3 + 4)"
   ]
  },
  {
   "cell_type": "code",
   "execution_count": null,
   "id": "f25ae90e",
   "metadata": {},
   "outputs": [],
   "source": [
    "a = 0\n",
    "for x in range(5) :\n",
    "    None\n",
    "a"
   ]
  },
  {
   "cell_type": "markdown",
   "id": "6b96499a",
   "metadata": {},
   "source": [
    "Résultat attendus:\n",
    "\n",
    "10"
   ]
  },
  {
   "cell_type": "markdown",
   "id": "9b3b64e3",
   "metadata": {},
   "source": [
    "#10 Remplace le None de façon à ce que, a à la fin de la boucle, le résultat soit tous les string de la liste mis bout à bout. C'est à dire 'abcd'.\n",
    "\n",
    "Indice, regarde dans la 1ère partie comment fusionner des string."
   ]
  },
  {
   "cell_type": "code",
   "execution_count": null,
   "id": "33b12bea",
   "metadata": {},
   "outputs": [],
   "source": [
    "a = ''\n",
    "for x in ['a', 'b', 'c', 'd'] :\n",
    "    None\n",
    "a"
   ]
  },
  {
   "cell_type": "markdown",
   "id": "5b3a7f6e",
   "metadata": {},
   "source": [
    "Résultat attendus:\n",
    "\n",
    "abcd"
   ]
  },
  {
   "cell_type": "markdown",
   "id": "17ba7987",
   "metadata": {},
   "source": [
    "#11 Remplace les None de façon à ce que pour chaque élément de la première boucle for, tu print la somme de tous les nombres entre 0 et ce nombre (inclus).\n",
    "\n",
    "C'est à dire le premier print doit être 6 car le premier élément de la boucle est 3 et on demande 1 + 2 + 3\n",
    "\n",
    "Idem, le 2e print doit être 3 = 1 + 2"
   ]
  },
  {
   "cell_type": "code",
   "execution_count": null,
   "id": "dc0b21be",
   "metadata": {},
   "outputs": [],
   "source": [
    "for i in [3, 2, 10, 25, 333] :\n",
    "    None\n",
    "    for j in None:\n",
    "        None\n",
    "    None\n"
   ]
  },
  {
   "cell_type": "markdown",
   "id": "78621f81",
   "metadata": {},
   "source": [
    "Résultat attendus:\n",
    "\n",
    "6\\\n",
    "3\\\n",
    "55\\\n",
    "325\\\n",
    "55611"
   ]
  },
  {
   "cell_type": "markdown",
   "id": "142df8bf",
   "metadata": {},
   "source": [
    "#12 Remplace les None par des ranges pour print le résultat attendu en bas.\n",
    "\n",
    "1 pour le 1er print\n",
    "\n",
    "12 pour la 2e \n",
    "\n",
    "123 pour la 3e\n",
    "\n",
    "et ainsi de suite pour tous les nombres entiers entre 1 et 5 (inclus)"
   ]
  },
  {
   "cell_type": "code",
   "execution_count": null,
   "id": "cfdccd17",
   "metadata": {},
   "outputs": [],
   "source": [
    "for i in None :\n",
    "    a = ''\n",
    "    for j in None :\n",
    "        a += str(j) #juste pour rappel, le str est là pour transformer le nombre en string\n",
    "    print(a)"
   ]
  },
  {
   "cell_type": "markdown",
   "id": "2e210063",
   "metadata": {},
   "source": [
    "Résultat attendus:\n",
    "\n",
    "1\\\n",
    "12\\\n",
    "123\\\n",
    "1234\\\n",
    "12345"
   ]
  },
  {
   "cell_type": "markdown",
   "id": "08f43cf9",
   "metadata": {},
   "source": [
    "#13 en reprenant le code de l'ex #12 et en utilisant une boucle for imbriqué, pour i de 1 à 5 print i fois le nombre dans une string, c'est à dire\n",
    "\n",
    "1 pour le 1er print\n",
    "\n",
    "22 pour la 2e \n",
    "\n",
    "333 pour la 3e\n",
    "\n",
    "..."
   ]
  },
  {
   "cell_type": "code",
   "execution_count": null,
   "id": "c80a4945",
   "metadata": {},
   "outputs": [],
   "source": [
    "#13 à remplir"
   ]
  },
  {
   "cell_type": "markdown",
   "id": "b956ef53",
   "metadata": {},
   "source": [
    "Résultat attendus:\n",
    "\n",
    "1\\\n",
    "22\\\n",
    "333\\\n",
    "4444\\\n",
    "55555"
   ]
  },
  {
   "cell_type": "markdown",
   "id": "042e3600",
   "metadata": {},
   "source": [
    "#14 Refais l'ex #13 mais cette fois ci avec seulement une boucle for. \n",
    "\n",
    "Indice Regarde dans le section type comment répéter un string plusieurs fois "
   ]
  },
  {
   "cell_type": "code",
   "execution_count": null,
   "id": "3ccbd0b6",
   "metadata": {},
   "outputs": [],
   "source": [
    "#14 à remplir"
   ]
  },
  {
   "cell_type": "markdown",
   "id": "83eeab2d",
   "metadata": {},
   "source": [
    "Résultat attendus:\n",
    "\n",
    "1\\\n",
    "22\\\n",
    "333\\\n",
    "4444\\\n",
    "55555"
   ]
  },
  {
   "cell_type": "markdown",
   "id": "b742c01c",
   "metadata": {},
   "source": [
    "# If et boolean"
   ]
  },
  {
   "cell_type": "markdown",
   "id": "a38d6b94",
   "metadata": {},
   "source": [
    "Boolean est une valeur qui dit si quelque chose est vrai ou faux. Il a 2 valeurs possibles True (=vrai) ou False (=faux) (attention aux majuscules aux débuts)"
   ]
  },
  {
   "cell_type": "code",
   "execution_count": 30,
   "id": "a7809f99",
   "metadata": {},
   "outputs": [
    {
     "name": "stdout",
     "output_type": "stream",
     "text": [
      "True\n",
      "False\n"
     ]
    }
   ],
   "source": [
    "print(True) #valeur vrai\n",
    "print(False) #valeur faux"
   ]
  },
  {
   "cell_type": "markdown",
   "id": "b9c7b170",
   "metadata": {},
   "source": [
    "Ces valeurs peuvent être créer en comparant des nombre par exemple :\n",
    "- pour vérifier si 2 nombres sont égaux on utilise ==\n",
    "- pour vérifier si 2 nombres sont différents on utilise !=\n",
    "- pour vérifier si un nombre a est strictement plus grand que b on utilise >\n",
    "- pour vérifier si un nombre a est plus grand ou égal que b on utilise >=\n",
    "- pour vérifier si un nombre a est strictement plus petit que b on utilise <\n",
    "- pour vérifier si un nombre a est plus petit ou égal que b on utilise <="
   ]
  },
  {
   "cell_type": "code",
   "execution_count": 36,
   "id": "2a2f6c2d",
   "metadata": {},
   "outputs": [
    {
     "name": "stdout",
     "output_type": "stream",
     "text": [
      "1 == 1 True\n",
      "1 != 1 False\n",
      "1 != 2 True\n",
      "1 == 2 False\n",
      "1 == '1' False\n",
      "1 == 1 True\n"
     ]
    }
   ],
   "source": [
    "print('1 == 1', 1 == 1) # vrai car les 2 nombres sont égaux\n",
    "print('1 != 1', 1 != 1) # faux car les 2 nombres sont égaux alors qu'on regarde s'ils sont différents\n",
    "print('1 != 2', 1 != 2) # vrai car les 2 nombres sont différents\n",
    "print('1 == 2', 1 == 2) # faux car les 2 nombres sont différents alors qu'on regarde s'ils sont égaux"
   ]
  },
  {
   "cell_type": "code",
   "execution_count": 39,
   "id": "32115bb6",
   "metadata": {},
   "outputs": [
    {
     "name": "stdout",
     "output_type": "stream",
     "text": [
      "2 < 4 True\n",
      "2 > 4 False\n",
      "2 > 0 True\n",
      "2 < 0 False\n",
      "2 > 2 False\n",
      "2 < 2 False\n"
     ]
    }
   ],
   "source": [
    "print('2 < 4', 2 < 4) #vrai car 2 est strictement plus petit que 4\n",
    "print('2 > 4', 2 > 4) #faux car 2 est strictement plus petit que 4 alors qu'on regarde s'il est strictement plus grand\n",
    "print('2 > 0', 2 > 0) #vrai car 2 est strictement plus grand que 0\n",
    "print('2 < 0', 2 < 0) #faux car 2 est strictement plus grand que 0 alors qu'on regarde s'il est strictement plus petit\n",
    "print('2 > 2', 2 > 2) #faux car les nombres sont égaux et on cherche si l'un est strictement plus grand que l'autre\n",
    "print('2 < 2', 2 < 2) #faux car les nombres sont égaux et on cherche si l'un est strictement plus petit que l'autre"
   ]
  },
  {
   "cell_type": "code",
   "execution_count": 41,
   "id": "91c69844",
   "metadata": {},
   "outputs": [
    {
     "name": "stdout",
     "output_type": "stream",
     "text": [
      "2 <= 4 True\n",
      "2 >= 4 False\n",
      "2 >= 0 True\n",
      "2 <= 0 False\n",
      "2 >= 2 True\n",
      "2 <= 2 True\n"
     ]
    }
   ],
   "source": [
    "print('2 <= 4', 2 <= 4) #vrai car 2 est plus petit que 4\n",
    "print('2 >= 4', 2 >= 4) #faux car 2 est plus petit que 4 alors qu'on regarde s'il est plus grand ou égal\n",
    "print('2 >= 0', 2 >= 0) #vrai car 2 est plus grand que 0\n",
    "print('2 <= 0', 2 <= 0) #faux car 2 est plus grand que 0 alors qu'on regarde s'il est plus petit ou égal\n",
    "print('2 >= 2', 2 >= 2) #vrai car les nombres sont égaux et on cherche si l'un est plus grand ou égal que l'autre\n",
    "print('2 <= 2', 2 <= 2) #vrai car les nombres sont égaux et on cherche si l'un est plus petit ou égal que l'autre"
   ]
  },
  {
   "cell_type": "markdown",
   "id": "b801af76",
   "metadata": {},
   "source": [
    "tu peux aussi vérifier si 2 choses sont égales ou différentes même si ce ne sont pas des nombres"
   ]
  },
  {
   "cell_type": "code",
   "execution_count": 2,
   "id": "745c9a3d",
   "metadata": {},
   "outputs": [
    {
     "name": "stdout",
     "output_type": "stream",
     "text": [
      "'a' == 'a' True\n",
      "'a' != 'a' False\n",
      "1 == '1' False\n",
      "1 == 1.0 True\n"
     ]
    }
   ],
   "source": [
    "print(\"'a' == 'a'\", 'a' == 'a') # vrai car les 2 string sont égaux\n",
    "print(\"'a' != 'a'\", 'a' != 'a') # faux car les 2 string sont égaux alors qu'on regarde s'ils sont différents\n",
    "print(\"1 == '1'\", 1 == '1') #faux car l'un est un nombre et l'autre un texte\n",
    "print('1 == 1.0', 1 == 1.0) # vrai car les 2 nombres sont égaux"
   ]
  },
  {
   "cell_type": "markdown",
   "id": "87bbe5db",
   "metadata": {},
   "source": [
    "on peut aussi utiliser in (qui veut dire dans) pour vérifier si un élément est dans une string ou une liste"
   ]
  },
  {
   "cell_type": "code",
   "execution_count": 48,
   "id": "21854b6c",
   "metadata": {},
   "outputs": [
    {
     "name": "stdout",
     "output_type": "stream",
     "text": [
      "'caché' in 'hhknjkbuzcachékhbjhbh' True\n",
      "'caché' in ['a', 'b', 'caché', 'ici', 'c'] True\n",
      "'trouvé' in 'hhknjkbuzcachékhbjhbh' False\n",
      "'trouvé' in ['a', 'b', 'caché', 'ici', 'c'] False\n",
      "['caché', 'ici'] in ['a', 'b', 'caché', 'ici', 'c'] False\n",
      "['caché', 'ici'] in ['a', 'b', ['caché', 'ici'], 'c'] True\n"
     ]
    }
   ],
   "source": [
    "print(\"'caché' in 'hhknjkbuzcachékhbjhbh'\", 'caché' in 'hhknjkbuz_caché_khbjhbh') #vrai car caché est dans le texte\n",
    "#vrai car caché est dans la liste\n",
    "print(\"'caché' in ['a', 'b', 'caché', 'ici', 'c']\", 'caché' in ['a', 'b', 'caché', 'ici', 'c']) \n",
    "\n",
    "print(\"'trouvé' in 'hhknjkbuzcachékhbjhbh'\", 'trouvé' in 'hhknjkbuz_caché_khbjhbh') #faux car trouvé n'est pas dans le texte\n",
    "#faux car trouvé n'est pas dans la liste\n",
    "print(\"'trouvé' in ['a', 'b', 'caché', 'ici', 'c']\", 'trouvé' in ['a', 'b', 'caché', 'ici', 'c'])  \n",
    "#celui là est faux car in marche avec seulement un élément, ça ne marche pas\n",
    "print(\"['caché', 'ici'] in ['a', 'b', 'caché', 'ici', 'c']\", ['caché', 'ici'] in ['a', 'b', 'caché', 'ici', 'c'])\n",
    "#par contre si ['caché', 'ici'] devient un élément à part entière de la liste, la boolean devient vrai\n",
    "print(\"['caché', 'ici'] in ['a', 'b', ['caché', 'ici'], 'c']\", ['caché', 'ici'] in ['a', 'b', ['caché', 'ici'], 'c'])"
   ]
  },
  {
   "cell_type": "markdown",
   "id": "ec444b5e",
   "metadata": {},
   "source": [
    "Puis il y a le not (qui indique la négation en anglais) qui permet d'inverser la valeur d'un boolean: True devient False et False devient True"
   ]
  },
  {
   "cell_type": "code",
   "execution_count": 49,
   "id": "d43955c0",
   "metadata": {},
   "outputs": [
    {
     "name": "stdout",
     "output_type": "stream",
     "text": [
      "False\n",
      "True\n",
      "False\n",
      "True\n"
     ]
    }
   ],
   "source": [
    "print(not True)  # True devient False\n",
    "print(not False) # False devient True\n",
    "print(not 1 == 1) #False car 1 == 1 est True\n",
    "print(not 1 != 1) #True car 1 != 1 est False"
   ]
  },
  {
   "cell_type": "markdown",
   "id": "7cdd379f",
   "metadata": {},
   "source": [
    "Ensuite on a les if ... else ...  (traduction si ... sinon ...)\n",
    "\n",
    "ils permettent de faire quelque chose si une chose est vrai et de faire autre chose si cette chose est fausse"
   ]
  },
  {
   "cell_type": "code",
   "execution_count": 50,
   "id": "2c2b8b4b",
   "metadata": {},
   "outputs": [
    {
     "name": "stdout",
     "output_type": "stream",
     "text": [
      "nous sommes à l'itération 0 et c'est strictement plus petit que 5\n",
      "nous sommes à l'itération 1 et c'est strictement plus petit que 5\n",
      "nous sommes à l'itération 2 et c'est strictement plus petit que 5\n",
      "nous sommes à l'itération 3 et c'est strictement plus petit que 5\n",
      "nous sommes à l'itération 4 et c'est strictement plus petit que 5\n",
      "nous sommes à l'itération 5 et on a passé 5\n",
      "nous sommes à l'itération 6 et on a passé 5\n",
      "nous sommes à l'itération 7 et on a passé 5\n",
      "nous sommes à l'itération 8 et on a passé 5\n",
      "nous sommes à l'itération 9 et on a passé 5\n"
     ]
    }
   ],
   "source": [
    "for i in range(10) :\n",
    "    if i < 5:\n",
    "        print(\"nous sommes à l'itération\", i, \"et c'est strictement plus petit que 5\")\n",
    "    else:\n",
    "        print(\"nous sommes à l'itération\", i, \"et on a passé 5\")"
   ]
  },
  {
   "cell_type": "markdown",
   "id": "b8622632",
   "metadata": {},
   "source": [
    "Au fait on est pas obligé de mettre un else avec un if"
   ]
  },
  {
   "cell_type": "code",
   "execution_count": 51,
   "id": "5f3641c1",
   "metadata": {},
   "outputs": [
    {
     "name": "stdout",
     "output_type": "stream",
     "text": [
      "nous sommes à l'itération 0 et c'est strictement plus petit que 5\n",
      "nous sommes à l'itération 1 et c'est strictement plus petit que 5\n",
      "nous sommes à l'itération 2 et c'est strictement plus petit que 5\n",
      "nous sommes à l'itération 3 et c'est strictement plus petit que 5\n",
      "nous sommes à l'itération 4 et c'est strictement plus petit que 5\n"
     ]
    }
   ],
   "source": [
    "for i in range(10) :\n",
    "    if i < 5:\n",
    "        print(\"nous sommes à l'itération\", i, \"et c'est strictement plus petit que 5\")"
   ]
  },
  {
   "cell_type": "markdown",
   "id": "04ac8876",
   "metadata": {},
   "source": [
    "Les lignes compter dans le if ... else ... marchent comme pour le for, tant que tu mets assez d'espaces avant tes lignes de codes, l'élément reste dans le if ou le else"
   ]
  },
  {
   "cell_type": "code",
   "execution_count": 57,
   "id": "001079fb",
   "metadata": {},
   "outputs": [
    {
     "name": "stdout",
     "output_type": "stream",
     "text": [
      "nous sommes à l'itération 0 et c'est strictement plus petit que 3\n",
      "toujours dedans 1 4\n",
      "ici on est en dehors du if dont cela est print à chaque itération quelque soit la valeur de i\n",
      "nous sommes à l'itération 1 et c'est strictement plus petit que 3\n",
      "toujours dedans 2 4\n",
      "ici on est en dehors du if dont cela est print à chaque itération quelque soit la valeur de i\n",
      "nous sommes à l'itération 2 et c'est strictement plus petit que 3\n",
      "toujours dedans 3 4\n",
      "ici on est en dehors du if dont cela est print à chaque itération quelque soit la valeur de i\n",
      "nous sommes à l'itération 3 et on a passé 3\n",
      "rajoute après 2 1.3333333333333333\n",
      "ici on est en dehors du if dont cela est print à chaque itération quelque soit la valeur de i\n",
      "nous sommes à l'itération 4 et on a passé 3\n",
      "rajoute après 3 1.3333333333333333\n",
      "ici on est en dehors du if dont cela est print à chaque itération quelque soit la valeur de i\n"
     ]
    }
   ],
   "source": [
    "for i in range(5) :\n",
    "    if i < 3:\n",
    "        print(\"nous sommes à l'itération\", i, \"et c'est strictement plus petit que 3\")\n",
    "        i  += 1\n",
    "        a = 2 * 2\n",
    "        print('toujours dedans', i , a)\n",
    "    else:\n",
    "        print(\"nous sommes à l'itération\", i, \"et on a passé 3\")\n",
    "        i  -= 1\n",
    "        b = 6/4.5\n",
    "        print('rajoute après', i, b)\n",
    "    print('ici on est en dehors du if dont cela est print à chaque itération quelque soit la valeur de i')"
   ]
  },
  {
   "cell_type": "code",
   "execution_count": 59,
   "id": "647c6dbb",
   "metadata": {},
   "outputs": [
    {
     "ename": "SyntaxError",
     "evalue": "invalid syntax (3314570048.py, line 6)",
     "output_type": "error",
     "traceback": [
      "\u001b[1;36m  Cell \u001b[1;32mIn [59], line 6\u001b[1;36m\u001b[0m\n\u001b[1;33m    else:\u001b[0m\n\u001b[1;37m    ^\u001b[0m\n\u001b[1;31mSyntaxError\u001b[0m\u001b[1;31m:\u001b[0m invalid syntax\n"
     ]
    }
   ],
   "source": [
    "#Attention, si on tu le elif doit être l'instruction juste après le dernier élément dans le if\n",
    "for i in range(10) :\n",
    "    if i < 5:\n",
    "        print(\"nous sommes à l'itération\", i, \"et c'est strictement plus petit que 5\")\n",
    "    print(\"puisque qu'on est sorti du if, cette instruction va causer une erreur au elif\")\n",
    "    else:\n",
    "        print(\"nous sommes à l'itération\", i, \"et on a passé 5\")"
   ]
  },
  {
   "cell_type": "markdown",
   "id": "2221aaef",
   "metadata": {},
   "source": [
    "on peut rajouter des elif (qui est la contraction de else if = sinon si) qui permettent d'avoir plus de choix dans les options"
   ]
  },
  {
   "cell_type": "code",
   "execution_count": 3,
   "id": "4ef0a720",
   "metadata": {},
   "outputs": [
    {
     "name": "stdout",
     "output_type": "stream",
     "text": [
      "nous sommes à l'itération 0 et c'est strictement plus petit que 5\n",
      "nous sommes à l'itération 1 et c'est strictement plus petit que 5\n",
      "nous sommes à l'itération 2 et c'est strictement plus petit que 5\n",
      "nous sommes à l'itération 3 et c'est strictement plus petit que 5\n",
      "nous sommes à l'itération 4 et c'est strictement plus petit que 5\n",
      "nous sommes à l'itération 5 et c'est strictement plus petit que 7\n",
      "nous sommes à l'itération 6 et c'est strictement plus petit que 7\n",
      "nous sommes à l'itération 7 et on a passé 7\n",
      "nous sommes à l'itération 8 et on a passé 7\n",
      "nous sommes à l'itération 9 et on a passé 7\n"
     ]
    }
   ],
   "source": [
    "for i in range(10) :\n",
    "    if i < 5:\n",
    "        print(\"nous sommes à l'itération\", i, \"et c'est strictement plus petit que 5\")\n",
    "    elif i < 7 :\n",
    "        print(\"nous sommes à l'itération\", i, \"et c'est strictement plus petit que 7\")\n",
    "    else:\n",
    "        print(\"nous sommes à l'itération\", i, \"et on a passé 7\")"
   ]
  },
  {
   "cell_type": "code",
   "execution_count": 90,
   "id": "18ed9e61",
   "metadata": {},
   "outputs": [
    {
     "name": "stdout",
     "output_type": "stream",
     "text": [
      "nous sommes à l'itération 0 et c'est strictement plus petit que 5\n",
      "nous sommes à l'itération 0 et c'est strictement plus petit que 7 et maintenant on a changé le elif en if\n",
      "nous sommes à l'itération 1 et c'est strictement plus petit que 5\n",
      "nous sommes à l'itération 1 et c'est strictement plus petit que 7 et maintenant on a changé le elif en if\n",
      "nous sommes à l'itération 2 et c'est strictement plus petit que 5\n",
      "nous sommes à l'itération 2 et c'est strictement plus petit que 7 et maintenant on a changé le elif en if\n",
      "nous sommes à l'itération 3 et c'est strictement plus petit que 5\n",
      "nous sommes à l'itération 3 et c'est strictement plus petit que 7 et maintenant on a changé le elif en if\n",
      "nous sommes à l'itération 4 et c'est strictement plus petit que 5\n",
      "nous sommes à l'itération 4 et c'est strictement plus petit que 7 et maintenant on a changé le elif en if\n",
      "nous sommes à l'itération 5 et c'est strictement plus petit que 7 et maintenant on a changé le elif en if\n",
      "nous sommes à l'itération 6 et c'est strictement plus petit que 7 et maintenant on a changé le elif en if\n",
      "nous sommes à l'itération 7 et on a passé 7\n",
      "nous sommes à l'itération 8 et on a passé 7\n",
      "nous sommes à l'itération 9 et on a passé 7\n"
     ]
    }
   ],
   "source": [
    "#voyons la différence si on change le elif en if\n",
    "for i in range(10) :\n",
    "    if i < 5:\n",
    "        print(\"nous sommes à l'itération\", i, \"et c'est strictement plus petit que 5\")\n",
    "    if i < 7 :\n",
    "        print(\"nous sommes à l'itération\", i, \"et c'est strictement plus petit que 7 et maintenant on a changé le elif en if\")\n",
    "    else:\n",
    "        print(\"nous sommes à l'itération\", i, \"et on a passé 7\")"
   ]
  },
  {
   "cell_type": "markdown",
   "id": "001a1413",
   "metadata": {},
   "source": [
    "On peut aussi combiner des boolean avec or (qui veut dire ou) et and (qui veut dire et)\n",
    "\n",
    "... or ... est vrai si au moins l'un des 2 éléments est vrai, et est faux si les 2 sont faux\n",
    "\n",
    "... and ... est vrai si les 2 éléments sont vrai, et est faux au moins l'un des 2 éléments est faux"
   ]
  },
  {
   "cell_type": "code",
   "execution_count": 93,
   "id": "a0b82eb1",
   "metadata": {},
   "outputs": [
    {
     "name": "stdout",
     "output_type": "stream",
     "text": [
      "False or False False\n",
      "True or False True\n",
      "False or True True\n",
      "True or True True\n"
     ]
    }
   ],
   "source": [
    "print('False or False:', False or False)\n",
    "print('True or False:', True or False)\n",
    "print('False or True:', False or True)\n",
    "print('True or True:', True or True)"
   ]
  },
  {
   "cell_type": "code",
   "execution_count": 94,
   "id": "81122081",
   "metadata": {},
   "outputs": [
    {
     "name": "stdout",
     "output_type": "stream",
     "text": [
      "False and False: False\n",
      "True and False: False\n",
      "False and True: False\n",
      "True and True: True\n"
     ]
    }
   ],
   "source": [
    "print('False and False:', False and False)\n",
    "print('True and False:', True and False)\n",
    "print('False and True:', False and True)\n",
    "print('True and True:', True and True)"
   ]
  },
  {
   "cell_type": "code",
   "execution_count": 95,
   "id": "20922640",
   "metadata": {},
   "outputs": [
    {
     "name": "stdout",
     "output_type": "stream",
     "text": [
      "nous sommes à l'itération 0 on est dehors\n",
      "nous sommes à l'itération 1 on est dehors\n",
      "nous sommes à l'itération 2 on est dehors\n",
      "nous sommes à l'itération 3 on est dehors\n",
      "nous sommes à l'itération 4 on est dehors\n",
      "nous sommes à l'itération 5 et on est entre 4 et 8 (exclus)\n",
      "nous sommes à l'itération 6 et on est entre 4 et 8 (exclus)\n",
      "nous sommes à l'itération 7 et on est entre 4 et 8 (exclus)\n",
      "nous sommes à l'itération 8 on est dehors\n",
      "nous sommes à l'itération 9 on est dehors\n"
     ]
    }
   ],
   "source": [
    "for i in range(10) :\n",
    "    if i < 8 and i > 4 :\n",
    "        print(\"nous sommes à l'itération\", i, \"et on est entre 4 et 8 (exclus)\")\n",
    "    else :\n",
    "        print(\"nous sommes à l'itération\", i, 'on est dehors')"
   ]
  },
  {
   "cell_type": "code",
   "execution_count": 98,
   "id": "2fdf8cde",
   "metadata": {},
   "outputs": [
    {
     "name": "stdout",
     "output_type": "stream",
     "text": [
      "nous sommes à l'itération 0 et on est plus grand que 8 ou plus petit que 3 (inclus)\n",
      "nous sommes à l'itération 1 et on est plus grand que 8 ou plus petit que 3 (inclus)\n",
      "nous sommes à l'itération 2 et on est plus grand que 8 ou plus petit que 3 (inclus)\n",
      "nous sommes à l'itération 3 et on est plus grand que 8 ou plus petit que 3 (inclus)\n",
      "nous sommes à l'itération 4 on est dehors\n",
      "nous sommes à l'itération 5 on est dehors\n",
      "nous sommes à l'itération 6 on est dehors\n",
      "nous sommes à l'itération 7 on est dehors\n",
      "nous sommes à l'itération 8 et on est plus grand que 8 ou plus petit que 3 (inclus)\n",
      "nous sommes à l'itération 9 et on est plus grand que 8 ou plus petit que 3 (inclus)\n"
     ]
    }
   ],
   "source": [
    "for i in range(10) :\n",
    "    if i >= 8 or i <= 3 :\n",
    "        print(\"nous sommes à l'itération\", i, \"et on est plus grand que 8 ou plus petit que 3 (inclus)\")\n",
    "    else :\n",
    "        print(\"nous sommes à l'itération\", i, 'on est dehors')"
   ]
  },
  {
   "cell_type": "markdown",
   "id": "e584016f",
   "metadata": {},
   "source": [
    "# Ex3"
   ]
  },
  {
   "cell_type": "markdown",
   "id": "845d60a9",
   "metadata": {},
   "source": [
    "Ajoute des not dans les expressions (sans changer les expressions autrement) de façon à ce que toutes les éléments de gauche soit vrai et tous les éléments de droites soient faux"
   ]
  },
  {
   "cell_type": "code",
   "execution_count": null,
   "id": "5d59ca3f",
   "metadata": {},
   "outputs": [],
   "source": [
    "print(1 == 1, 1 == 1)\n",
    "print(0 != 0, 0 != 0)\n",
    "print(10 < 10, 10 < 10)\n",
    "print(10 >= 10, 10 >= 10)\n",
    "print('111' == 111, '111' == 111)\n",
    "print(1 in [1, 2, 3], 1 in [1, 2, 3])\n",
    "print(12 in [1, 2, 3], 12 in [1, 2, 3])\n",
    "print('12' in '123', '12' in '123')"
   ]
  },
  {
   "cell_type": "markdown",
   "id": "63ab8c82",
   "metadata": {},
   "source": [
    "Résultat attendus:\n",
    "\n",
    "True False \\\n",
    "True False \\\n",
    "True False \\\n",
    "True False \\\n",
    "True False \\\n",
    "True False \\\n",
    "True False \\\n",
    "True False"
   ]
  },
  {
   "cell_type": "markdown",
   "id": "98ea1e57",
   "metadata": {},
   "source": [
    "#1 remplace les None par == ou != pour avoir les boolean demandés en commentaire"
   ]
  },
  {
   "cell_type": "code",
   "execution_count": null,
   "id": "50eb2953",
   "metadata": {},
   "outputs": [],
   "source": [
    "print(1 None 1) #True\n",
    "print(1 None 5) #False\n",
    "print(10 None 4) #True\n",
    "print(5 None 5) #False\n",
    "print('5' None 5) #True\n",
    "print('5' None 4) #True"
   ]
  },
  {
   "cell_type": "markdown",
   "id": "0c25534c",
   "metadata": {},
   "source": [
    "Résultat attendus:\n",
    "\n",
    "True\\\n",
    "False\\\n",
    "True\\\n",
    "False\\\n",
    "True\\\n",
    "True"
   ]
  },
  {
   "cell_type": "markdown",
   "id": "80ce799a",
   "metadata": {},
   "source": [
    "#2 remplace les None par < ou > pour avoir les boolean demandés en commentaire"
   ]
  },
  {
   "cell_type": "code",
   "execution_count": null,
   "id": "fa698c5c",
   "metadata": {},
   "outputs": [],
   "source": [
    "print(1 None 5) #False\n",
    "print(10 None 4) #True\n",
    "print(5 None 5) #False\n",
    "print(8 None 0) #False\n",
    "print (0 None 4) #True"
   ]
  },
  {
   "cell_type": "markdown",
   "id": "419f455f",
   "metadata": {},
   "source": [
    "Résultat attendus:\n",
    "\n",
    "False\\\n",
    "True\\\n",
    "False\\\n",
    "False\\\n",
    "True"
   ]
  },
  {
   "cell_type": "markdown",
   "id": "95c8c562",
   "metadata": {},
   "source": [
    "#3 remplace les None par <= ou >= pour avoir les boolean demandés en commentaire"
   ]
  },
  {
   "cell_type": "code",
   "execution_count": null,
   "id": "c85db292",
   "metadata": {},
   "outputs": [],
   "source": [
    "print(10 None 100) #False\n",
    "print(8 None 3) #True\n",
    "print(7.5 None 7.5) #True\n",
    "print(433 None 0.5) #False\n",
    "print (7.5 None 44) #True"
   ]
  },
  {
   "cell_type": "markdown",
   "id": "11e44c6e",
   "metadata": {},
   "source": [
    "Résultat attendus:\n",
    "\n",
    "False\\\n",
    "True\\\n",
    "True\\\n",
    "False\\\n",
    "True"
   ]
  },
  {
   "cell_type": "markdown",
   "id": "1751a86a",
   "metadata": {},
   "source": [
    "#4 remplace le None dans le if de façon à print seulement les éléments strictement plus grand que 5"
   ]
  },
  {
   "cell_type": "code",
   "execution_count": null,
   "id": "207e540e",
   "metadata": {},
   "outputs": [],
   "source": [
    "for i in range(10) :\n",
    "    if None :\n",
    "        print(i)"
   ]
  },
  {
   "cell_type": "markdown",
   "id": "555f18d0",
   "metadata": {},
   "source": [
    "Résultat attendus:\n",
    "\n",
    "6\\\n",
    "7\\\n",
    "8\\\n",
    "9"
   ]
  },
  {
   "cell_type": "markdown",
   "id": "ec89e53c",
   "metadata": {},
   "source": [
    "#5 remplace le None dans le if de façon à print 'pas 13' si le nombre est différent de 13 et à print 13 si il est égal à 13"
   ]
  },
  {
   "cell_type": "code",
   "execution_count": null,
   "id": "8693b304",
   "metadata": {},
   "outputs": [],
   "source": [
    "for i in range(10, 15) :\n",
    "    if None :\n",
    "        print(i)\n",
    "    else:\n",
    "        print('pas 13')"
   ]
  },
  {
   "cell_type": "markdown",
   "id": "709d4ed5",
   "metadata": {},
   "source": [
    "Résultat attendus:\n",
    "\n",
    "pas 13\\\n",
    "pas 13\\\n",
    "pas 13\\\n",
    "13\\\n",
    "pas 13"
   ]
  },
  {
   "cell_type": "markdown",
   "id": "193359b3",
   "metadata": {},
   "source": [
    "#6 même exercice que #5 remplace le None dans le if de façon à print 'pas 13' si le nombre est différent de 13 et à print 13 si il est égal à 13"
   ]
  },
  {
   "cell_type": "code",
   "execution_count": null,
   "id": "4db87e1d",
   "metadata": {},
   "outputs": [],
   "source": [
    "for i in range(10, 15) :\n",
    "    if None :\n",
    "        print('pas 13')\n",
    "    else:\n",
    "        print(i)"
   ]
  },
  {
   "cell_type": "markdown",
   "id": "c992e3c8",
   "metadata": {},
   "source": [
    "Résultat attendus:\n",
    "\n",
    "pas 13\\\n",
    "pas 13\\\n",
    "pas 13\\\n",
    "13\\\n",
    "pas 13"
   ]
  },
  {
   "cell_type": "markdown",
   "id": "f34c7372",
   "metadata": {},
   "source": [
    "#7 Dans la boucle for pour chaque itération, remplace les None de façon à ce que si le nombre est strictement plus grand que 2, print '> 2' à part si le nombre est 5 dans ce cas là print 'on a un 5'.\n",
    "\n",
    "Si le nombre est égal ou inférieur à 2 print le nombre"
   ]
  },
  {
   "cell_type": "code",
   "execution_count": null,
   "id": "10f03e6e",
   "metadata": {},
   "outputs": [],
   "source": [
    "for i in range(10) :\n",
    "    if None : \n",
    "        None\n",
    "    elif None : \n",
    "        None\n",
    "    else :\n",
    "        None"
   ]
  },
  {
   "cell_type": "markdown",
   "id": "e2df547f",
   "metadata": {},
   "source": [
    "Résultat attendus:\n",
    "\n",
    "0\\\n",
    "1\\\n",
    "2\\\n",
    "\\>2\\\n",
    "\\>2\\\n",
    "on a un 5\\\n",
    "\\>2\\\n",
    "\\>2\\\n",
    "\\>2\\\n",
    "\\>2\n"
   ]
  },
  {
   "cell_type": "markdown",
   "id": "b98cb844",
   "metadata": {},
   "source": [
    "#8 Dans la boucle crée un if de façon à ce que si  le nombre est 3 on print 'lol', s'il est 7 on print 'lucky' et sinon on print le nombre en question"
   ]
  },
  {
   "cell_type": "code",
   "execution_count": null,
   "id": "0cbc62ac",
   "metadata": {},
   "outputs": [],
   "source": [
    "for x in range(10) :\n",
    "    None"
   ]
  },
  {
   "cell_type": "markdown",
   "id": "950a60c3",
   "metadata": {},
   "source": [
    "Résultat attendus:\n",
    "\n",
    "0\\\n",
    "1\\\n",
    "2\\\n",
    "lol\\\n",
    "4\\\n",
    "5\\\n",
    "6\\\n",
    "lucky\\\n",
    "8\\\n",
    "9"
   ]
  },
  {
   "cell_type": "markdown",
   "id": "c2423e3a",
   "metadata": {},
   "source": [
    "#9 Remplace None par une condition de façon à ce que si le nombre est 3 ou 7 on print 'ou' et sinon on print le nombre en question"
   ]
  },
  {
   "cell_type": "code",
   "execution_count": null,
   "id": "9b1f0021",
   "metadata": {},
   "outputs": [],
   "source": [
    "for i in range(10) :\n",
    "    if None :\n",
    "        print('ou')\n",
    "    else :\n",
    "        print(i)"
   ]
  },
  {
   "cell_type": "markdown",
   "id": "aac7de56",
   "metadata": {},
   "source": [
    "Résultat attendus:\n",
    "\n",
    "0\\\n",
    "1\\\n",
    "2\\\n",
    "ou\\\n",
    "4\\\n",
    "5\\\n",
    "6\\\n",
    "ou\\\n",
    "8\\\n",
    "9"
   ]
  },
  {
   "cell_type": "markdown",
   "id": "dd96a0d7",
   "metadata": {},
   "source": [
    "#10 Remplace None par une condition de façon à ce que si le nombre est entre 3 et 7 (inclus) on print 'and' et sinon on print le nombre en question"
   ]
  },
  {
   "cell_type": "code",
   "execution_count": null,
   "id": "5ccab6c0",
   "metadata": {},
   "outputs": [],
   "source": [
    "for i in range(10) :\n",
    "    if None :\n",
    "        print('and')\n",
    "    else :\n",
    "        print(i)"
   ]
  },
  {
   "cell_type": "markdown",
   "id": "878d4eca",
   "metadata": {},
   "source": [
    "Résultat attendus:\n",
    "\n",
    "0 \\\n",
    "1 \\\n",
    "2 \\\n",
    "and\\\n",
    "and\\\n",
    "and\\\n",
    "and\\\n",
    "and\\\n",
    "8\\\n",
    "9"
   ]
  },
  {
   "cell_type": "markdown",
   "id": "bc03ee93",
   "metadata": {},
   "source": [
    "#11 Remplace None de façon à ce qu'on print quelque chose seulement si les valeurs des 2 boucles for sont égales"
   ]
  },
  {
   "cell_type": "code",
   "execution_count": null,
   "id": "2e7ace63",
   "metadata": {},
   "outputs": [],
   "source": [
    "for i in [1, 5, 10 , 999] :\n",
    "    for j in [10, 44, 1, 'bonjour'] :\n",
    "        if None :\n",
    "            print(i, j)"
   ]
  },
  {
   "cell_type": "markdown",
   "id": "e3f8abc0",
   "metadata": {},
   "source": [
    "Résultat attendus:\n",
    "\n",
    "1 1 \\\n",
    "10 10"
   ]
  },
  {
   "cell_type": "markdown",
   "id": "88bd2517",
   "metadata": {},
   "source": [
    "#12 remplace None dans le if de façon à ce qu'on print les valeur des 2 boucles si l'élément de la première est 1 ou 3 et l'élément de la 2e est 5 ou 7  "
   ]
  },
  {
   "cell_type": "code",
   "execution_count": null,
   "id": "c65107e0",
   "metadata": {},
   "outputs": [],
   "source": [
    "for i in range(10) :\n",
    "    for j in range(10) :\n",
    "        if None :\n",
    "            print(i,j)"
   ]
  },
  {
   "cell_type": "markdown",
   "id": "59ad8914",
   "metadata": {},
   "source": [
    "Résultat attendus:\n",
    "\n",
    "1 5\\\n",
    "1 7\\\n",
    "3 5\\\n",
    "3 7"
   ]
  },
  {
   "cell_type": "markdown",
   "id": "51560f92",
   "metadata": {},
   "source": [
    "#13 étant donné 2 listes a13 et b13 : remplace le None dans le if de façon à print tous les éléments de a13 qui sont dans b13"
   ]
  },
  {
   "cell_type": "code",
   "execution_count": null,
   "id": "92b78324",
   "metadata": {},
   "outputs": [],
   "source": [
    "a13 = [1, 5, 10 , 999]\n",
    "b13 = [10, 44, 1, 'bonjour']\n",
    "for i in a13 :\n",
    "    if None :\n",
    "        print(i)"
   ]
  },
  {
   "cell_type": "markdown",
   "id": "e60bf0b0",
   "metadata": {},
   "source": [
    "Résultat attendus:\n",
    "\n",
    "1\\\n",
    "10"
   ]
  },
  {
   "cell_type": "markdown",
   "id": "458f794d",
   "metadata": {},
   "source": [
    "# Fonctions"
   ]
  },
  {
   "cell_type": "markdown",
   "id": "3ba53e09",
   "metadata": {},
   "source": [
    "Une fonction est un bout de code que tu peux réutiliser. Il marche de la façon suivante :\n",
    "\n",
    "def [nom de la fonction] (arguments) :\\\n",
    "&emsp;code à faire\n",
    "\n",
    "Utiliser une fonction est appelé \"appeler une fonction\"\n",
    "\n",
    "Par exemple si on fait un code sans argument (on verra plus tard ce qu'est un argument)"
   ]
  },
  {
   "cell_type": "code",
   "execution_count": 99,
   "id": "97594a81",
   "metadata": {},
   "outputs": [
    {
     "name": "stdout",
     "output_type": "stream",
     "text": [
      "ouah cette string est juste trop longue, ça va être embêtant de réecrire à chaque fois, heuresuement je peut mettre ça dans  une fonction\n",
      "ouah cette string est juste trop longue, ça va être embêtant de réecrire à chaque fois, heuresuement je peut mettre ça dans  une fonction\n",
      "ouah cette string est juste trop longue, ça va être embêtant de réecrire à chaque fois, heuresuement je peut mettre ça dans  une fonction\n"
     ]
    }
   ],
   "source": [
    "def print_quelque_chose_long() :\n",
    "    print('ouah cette string est juste trop longue, ça va être embêtant de réécrire à chaque fois, heureusement je peut mettre ça dans  une fonction')\n",
    "print_quelque_chose_long()\n",
    "print_quelque_chose_long()\n",
    "print_quelque_chose_long()"
   ]
  },
  {
   "cell_type": "markdown",
   "id": "e759355c",
   "metadata": {},
   "source": [
    "Les fonctions marchent comme les for et les if, pour rester dedans il faut mettre des espaces avant."
   ]
  },
  {
   "cell_type": "code",
   "execution_count": 100,
   "id": "34886ae4",
   "metadata": {},
   "outputs": [
    {
     "name": "stdout",
     "output_type": "stream",
     "text": [
      "par contre celle là est seulement visible au début car il n'y a pas d'indentation\n",
      "regarde\n",
      "je peux mettre autant de ligne que je veux ahahahahahah\n",
      "regarde\n",
      "je peux mettre autant de ligne que je veux ahahahahahah\n",
      "regarde\n",
      "je peux mettre autant de ligne que je veux ahahahahahah\n"
     ]
    }
   ],
   "source": [
    "def example_indentation() :\n",
    "    print('regarde')\n",
    "    a = 0\n",
    "    a += 1\n",
    "    a += 2\n",
    "    a += 3\n",
    "    print('je peux mettre autant de ligne que je veux', 'ah' * a)\n",
    "print(\"par contre celle là est seulement visible au début car il n'y a pas d'indentation\")\n",
    "\n",
    "example_indentation()\n",
    "example_indentation()\n",
    "example_indentation()"
   ]
  },
  {
   "cell_type": "markdown",
   "id": "070e3003",
   "metadata": {},
   "source": [
    "On peut aussi y mettre des arguments. Un argument est une variable qui est donnée au moment où on appelle la fonction. Cela permet de changer certains éléments de la fonctions en fonction des éléments qui y rentrent."
   ]
  },
  {
   "cell_type": "code",
   "execution_count": 101,
   "id": "d58e1019",
   "metadata": {},
   "outputs": [
    {
     "name": "stdout",
     "output_type": "stream",
     "text": [
      "ah\n",
      "ahah\n",
      "ahahah\n",
      "ahahahahahahahahahah\n"
     ]
    }
   ],
   "source": [
    "def rigole (combien) :\n",
    "    print('ah' * combien)\n",
    "    \n",
    "rigole(1)\n",
    "rigole(2)\n",
    "rigole(3)\n",
    "rigole(10)"
   ]
  },
  {
   "cell_type": "code",
   "execution_count": 102,
   "id": "6f8ba2f7",
   "metadata": {},
   "outputs": [
    {
     "name": "stdout",
     "output_type": "stream",
     "text": [
      "\n",
      "ah\n",
      "ahah\n",
      "ahahah\n",
      "ahahahah\n",
      "ahahahahah\n",
      "ahahahahahah\n",
      "ahahahahahahah\n",
      "ahahahahahahahah\n",
      "ahahahahahahahahah\n"
     ]
    }
   ],
   "source": [
    "for i in range(10) :\n",
    "    rigole(i)"
   ]
  },
  {
   "cell_type": "markdown",
   "id": "4805bfdb",
   "metadata": {},
   "source": [
    "On peut mettre en théorie autant d'arguments qu'on veut."
   ]
  },
  {
   "cell_type": "code",
   "execution_count": 103,
   "id": "0b870061",
   "metadata": {},
   "outputs": [
    {
     "name": "stdout",
     "output_type": "stream",
     "text": [
      "le coq est dans la grange . mais heureusement je peux réutiliser le code\n",
      "le cheval est dans la grange . mais heureusement je peux réutiliser le code\n",
      "le truc est dans la machin . mais heureusement je peux réutiliser le code\n"
     ]
    }
   ],
   "source": [
    "def dans_quoi(quoi, dans) :\n",
    "    print('le', quoi, 'est dans la', dans, '. mais heureusement je peux réutiliser le code')\n",
    "    \n",
    "dans_quoi('coq', 'grange')\n",
    "dans_quoi('cheval', 'grange')\n",
    "dans_quoi('truc', 'machin')"
   ]
  },
  {
   "cell_type": "markdown",
   "id": "bd2bf6b2",
   "metadata": {},
   "source": [
    "On a aussi l'option de retourner quelque chose avec l'option return."
   ]
  },
  {
   "cell_type": "code",
   "execution_count": 107,
   "id": "35f7edbb",
   "metadata": {},
   "outputs": [
    {
     "name": "stdout",
     "output_type": "stream",
     "text": [
      "ah\n",
      "ahah\n",
      "ahahah\n",
      "ahahahahahahahahahah\n"
     ]
    }
   ],
   "source": [
    "def rigole_return (combien) :\n",
    "    return 'ah' * combien\n",
    "\n",
    "a = rigole (1)\n",
    "print(a)\n",
    "a = rigole (2)\n",
    "print(a)\n",
    "a = rigole (3)\n",
    "print(a)\n",
    "a = rigole (10)\n",
    "print(a)"
   ]
  },
  {
   "cell_type": "code",
   "execution_count": 108,
   "id": "d77b0cba",
   "metadata": {},
   "outputs": [
    {
     "name": "stdout",
     "output_type": "stream",
     "text": [
      "\n",
      "ah\n",
      "ahah\n",
      "ahahah\n",
      "ahahahah\n",
      "ahahahahah\n",
      "ahahahahahah\n",
      "ahahahahahahah\n",
      "ahahahahahahahah\n",
      "ahahahahahahahahah\n"
     ]
    }
   ],
   "source": [
    "for i in range(10) :\n",
    "    a = rigole_return (i)\n",
    "    print(a)"
   ]
  },
  {
   "cell_type": "code",
   "execution_count": 109,
   "id": "0672875a",
   "metadata": {},
   "outputs": [
    {
     "data": {
      "text/plain": [
       "45"
      ]
     },
     "execution_count": 109,
     "metadata": {},
     "output_type": "execute_result"
    }
   ],
   "source": [
    "def addition_10(a0, a1, a2, a3, a4, a5, a6, a7, a8, a9) :\n",
    "    return a0 + a1 + a2 + a3 + a4 + a5 + a6 + a7 + a8+ a9\n",
    "\n",
    "addition_10(0,1,2,3,4,5,6,7,8,9)"
   ]
  },
  {
   "cell_type": "markdown",
   "id": "67acce9d",
   "metadata": {},
   "source": [
    "Les fonctions sont très utilisées pour pouvoir réutiliser du code facilement et pour le rendre plus lisible. On verra sa pleine puissance avec le morpion. Pour le moment il va être très util pour les exercices\n",
    "\n",
    "Dans les exercices je vais utiliser assert, cela permet de créer une erreur si la condition n'est pas respecter. Pour toi ça veut dire que tant que tu as des assertionError, tu n'as pas fini l'exercice."
   ]
  },
  {
   "cell_type": "code",
   "execution_count": 113,
   "id": "f86bb4fd",
   "metadata": {},
   "outputs": [
    {
     "name": "stdout",
     "output_type": "stream",
     "text": [
      "pass\n"
     ]
    },
    {
     "ename": "AssertionError",
     "evalue": "on voulait 4 mais le résultat est 3",
     "output_type": "error",
     "traceback": [
      "\u001b[1;31m---------------------------------------------------------------------------\u001b[0m",
      "\u001b[1;31mAssertionError\u001b[0m                            Traceback (most recent call last)",
      "Cell \u001b[1;32mIn [113], line 7\u001b[0m\n\u001b[0;32m      5\u001b[0m \u001b[38;5;28mprint\u001b[39m(\u001b[38;5;124m'\u001b[39m\u001b[38;5;124mpass\u001b[39m\u001b[38;5;124m'\u001b[39m)\n\u001b[0;32m      6\u001b[0m \u001b[38;5;66;03m#pour le moment on va pas voir comment la string est construite\u001b[39;00m\n\u001b[1;32m----> 7\u001b[0m \u001b[38;5;28;01massert\u001b[39;00m addition (\u001b[38;5;241m1\u001b[39m, \u001b[38;5;241m2\u001b[39m) \u001b[38;5;241m==\u001b[39m \u001b[38;5;241m4\u001b[39m, \u001b[38;5;124mf\u001b[39m\u001b[38;5;124m'\u001b[39m\u001b[38;5;124mon voulait 4 mais le résultat est \u001b[39m\u001b[38;5;124m'\u001b[39m\u001b[38;5;241m+\u001b[39m \u001b[38;5;28mstr\u001b[39m(addition (\u001b[38;5;241m1\u001b[39m, \u001b[38;5;241m2\u001b[39m))  \u001b[38;5;66;03m#ça retourne une erreur car 1 +2 == 3 != 4\u001b[39;00m\n",
      "\u001b[1;31mAssertionError\u001b[0m: on voulait 4 mais le résultat est 3"
     ]
    }
   ],
   "source": [
    "def addition (a, b):\n",
    "    return a + b\n",
    "\n",
    "assert addition (1, 2) == 3 #ça passe car 1+ 2 == 3\n",
    "print('pass')\n",
    "assert addition (1, 2) == 4, f'on voulait 4 mais le résultat est '+ str(addition (1, 2))  #ça retourne une erreur car 1 +2 == 3 != 4"
   ]
  },
  {
   "cell_type": "markdown",
   "id": "bff332d1",
   "metadata": {},
   "source": [
    "# Ex4"
   ]
  },
  {
   "cell_type": "markdown",
   "id": "64e75b78",
   "metadata": {},
   "source": [
    "#1 Remplace le pass par une fonction qui print 'bonjour le monde'"
   ]
  },
  {
   "cell_type": "code",
   "execution_count": null,
   "id": "bc1dfe12",
   "metadata": {},
   "outputs": [],
   "source": [
    "def bonjour() :\n",
    "    pass\n",
    "\n",
    "bonjour()"
   ]
  },
  {
   "cell_type": "markdown",
   "id": "535692b1",
   "metadata": {},
   "source": [
    "Résultat attendus:\n",
    "\n",
    "bonjour le monde"
   ]
  },
  {
   "cell_type": "markdown",
   "id": "eeeebfeb",
   "metadata": {},
   "source": [
    "#2 remplace le pass dans la fonction pour que la fonction retourne son argument au carré (son argument multiplié par lui même)"
   ]
  },
  {
   "cell_type": "code",
   "execution_count": null,
   "id": "e96a582a",
   "metadata": {},
   "outputs": [],
   "source": [
    "def au_carre(a) :\n",
    "    pass\n",
    "\n",
    "assert au_carre(3) == 9, 'on voulait 9, mais le résultat est ' + str(au_carre(3))\n",
    "assert au_carre(-5) == 25, 'on voulait 25, mais le résultat est ' + str(au_carre(-5))\n",
    "assert au_carre(100) == 10000, 'on voulait 10000, mais le résultat est ' + str(au_carre(100))\n",
    "print('exercice réussi')"
   ]
  },
  {
   "cell_type": "markdown",
   "id": "ee7ab96d",
   "metadata": {},
   "source": [
    "#3 Remplace le pass pass dans la fonction pour que la fonction retourne son 1 er argument plus son 2e moins son 3e"
   ]
  },
  {
   "cell_type": "code",
   "execution_count": null,
   "id": "e07caeed",
   "metadata": {},
   "outputs": [],
   "source": [
    "def ex3_f (a,b,c) :\n",
    "    pass\n",
    "\n",
    "assert ex3_f(2, 2, 2) == 2, 'on voulait 2, mais le résultat est ' + str(ex3_f(2, 2, 2))\n",
    "assert ex3_f(6, 7, 4) == 9, 'on voulait 9, mais le résultat est ' + str(ex3_f(6, 7, 4))\n",
    "assert ex3_f(6, 7, -4) == 17, 'on voulait 17, mais le résultat est ' + str(ex3_f(6, 7, -4))\n",
    "assert ex3_f(0, 1, 2)  == -1, 'on voulait -1, mais le résultat est ' + str(ex3_f(0, 1, 2))\n",
    "assert ex3_f(1, 0, 2)  == -1, 'on voulait -1, mais le résultat est ' + str(ex3_f(1, 0, 2))\n",
    "assert ex3_f(1, 2, 0)  == 3, 'on voulait 3, mais le résultat est ' + str(ex3_f(1, 2, 0))\n",
    "\n",
    "print('exercice réussi')"
   ]
  },
  {
   "cell_type": "markdown",
   "id": "8b1e9902",
   "metadata": {},
   "source": [
    "#4 En utilisant seulement les fonction données, remplace les None pour faire les opérations mis en commentaire (ne donne par juste le résultat final mais fait les opérations et au lieu de faire 0 + 1 fait addition(0, 1))"
   ]
  },
  {
   "cell_type": "code",
   "execution_count": null,
   "id": "4454921f",
   "metadata": {},
   "outputs": [],
   "source": [
    "def addition(a, b):\n",
    "    return a + b\n",
    "\n",
    "def soustraction(a, b):\n",
    "    return a - b\n",
    "\n",
    "def multiplication(a, b):\n",
    "    return a * b\n",
    "\n",
    "def division(a, b):\n",
    "    return a / b\n",
    "\n",
    "#exemple de ce qui est attendu\n",
    "print(addition(1, 1)) # 1 + 1\n",
    "\n",
    "print(None) # 1 - 1\n",
    "print(None) # 2 * 3\n",
    "print(None) # 20 / 4\n",
    "\n",
    "print(None) # 1 + 2 + 3\n",
    "print(None) # 1 - 2 + 3\n",
    "print(None) #(1 + 2) * (9 - 10)\n",
    "print(None) #1 - 3 * 5\n",
    "print(None) #(1 - 3) * 5\n",
    "print(None) #(5 + 0) / 5\n",
    "print(None) #(1 + 2 + 3) * ((5 + 0) / 5)"
   ]
  },
  {
   "cell_type": "markdown",
   "id": "55e8bf9f",
   "metadata": {},
   "source": [
    "Résultat attendus:\n",
    "\n",
    "2\\\n",
    "0\\\n",
    "6\\\n",
    "5\\\n",
    "6\\\n",
    "2\\\n",
    "-3\\\n",
    "-14\\\n",
    "-10\\\n",
    "1.0\\\n",
    "6.0"
   ]
  },
  {
   "cell_type": "markdown",
   "id": "6c642435",
   "metadata": {},
   "source": [
    "#5 Remplace le pass dans la fonction pour que la fonction retourne True si a est strictement plus grand que 6, 'tortue' si l'argument est égal à 0 est False sinon "
   ]
  },
  {
   "cell_type": "code",
   "execution_count": null,
   "id": "c33be56b",
   "metadata": {},
   "outputs": [],
   "source": [
    "def ex5_f(a_tester):\n",
    "    pass\n",
    "\n",
    "assert ex5_f(25) == True, 'on voulait True, mais le résultat est ' + str(ex5_f(25))\n",
    "assert ex5_f(999) == True, 'on voulait True, mais le résultat est ' + str(ex5_f(999))\n",
    "assert ex5_f(-5) == False, 'on voulait False, mais le résultat est ' + str(ex5_f(-5))\n",
    "assert ex5_f(6) == False, 'on voulait False, mais le résultat est ' + str(ex5_f(6))\n",
    "assert ex5_f(0) == 'tortue', 'on voulait tortue, mais le résultat est ' + str(ex5_f(0))\n",
    "assert ex5_f(1) == False, 'on voulait False, mais le résultat est ' + str(ex5_f(1))\n",
    "\n",
    "print('exercice réussi')"
   ]
  },
  {
   "cell_type": "markdown",
   "id": "07ea874a",
   "metadata": {},
   "source": [
    "#6 Remplace pass pour faire une fonction qui passe les 2 tests"
   ]
  },
  {
   "cell_type": "code",
   "execution_count": null,
   "id": "46962eac",
   "metadata": {},
   "outputs": [],
   "source": [
    "def ex6_f (a0, a1, a2, a3, a4, a5) :\n",
    "    pass\n",
    "\n",
    "assert ex6_f(0, 1, 2, 3, 4, 5) == 23, 'on voulait 23, mais le résultat est ' + str(ex6_f(0, 1, 2, 3, 4, 5))\n",
    "assert ex6_f(0, 2, 4, 6, 8, 10) == 46, 'on voulait 46, mais le résultat est ' + str(ex6_f(0, 2, 4, 6, 8, 10))\n",
    "\n",
    "print('exercice réussi')"
   ]
  }
 ],
 "metadata": {
  "kernelspec": {
   "display_name": "Python 3.11.0 64-bit",
   "language": "python",
   "name": "python3"
  },
  "language_info": {
   "codemirror_mode": {
    "name": "ipython",
    "version": 3
   },
   "file_extension": ".py",
   "mimetype": "text/x-python",
   "name": "python",
   "nbconvert_exporter": "python",
   "pygments_lexer": "ipython3",
   "version": "3.11.0"
  },
  "vscode": {
   "interpreter": {
    "hash": "178ebf2a339009f7ee1035e830ea7728bc6b8d29e10a2429822243a74bf22462"
   }
  }
 },
 "nbformat": 4,
 "nbformat_minor": 5
}
