{
 "cells": [
  {
   "cell_type": "markdown",
   "id": "2beb45e0",
   "metadata": {},
   "source": [
    "# Morpion"
   ]
  },
  {
   "cell_type": "markdown",
   "id": "3db76279",
   "metadata": {},
   "source": [
    "### note : si jamais tu as un une erreur du type\n",
    "\n",
    "NameError: name 'nom_de_fonction' is not defined\n",
    "\n",
    "ça veut dire que le programme ne connaît pas le nom d'une fonction et que tu dois la run : va sur la case qui crée la fonction et run le programme. Si tu ne peux pas run la case à cause d'une AssertionError, ça veut dire que tu n'as pas complété l'exercice et que tu n'as pas passé les tests."
   ]
  },
  {
   "cell_type": "code",
   "execution_count": 1,
   "id": "c331c391",
   "metadata": {},
   "outputs": [],
   "source": [
    "#run ça\n",
    "from IPython.display import clear_output"
   ]
  },
  {
   "cell_type": "markdown",
   "id": "c07771a5",
   "metadata": {},
   "source": [
    "On va commencer par afficher la grille.\n",
    "\n",
    "La grille est sur plusieurs ligne. Pour faire ça en 1 string, on utilise le caractère \\n"
   ]
  },
  {
   "cell_type": "code",
   "execution_count": 2,
   "id": "a1e75d94",
   "metadata": {},
   "outputs": [
    {
     "name": "stdout",
     "output_type": "stream",
     "text": [
      "première ligne\n",
      "deuxième ligne\n",
      "troisième ligne\n"
     ]
    }
   ],
   "source": [
    "print('première ligne\\ndeuxième ligne\\ntroisième ligne')"
   ]
  },
  {
   "cell_type": "code",
   "execution_count": 5,
   "id": "8e61f8fc",
   "metadata": {},
   "outputs": [
    {
     "name": "stdout",
     "output_type": "stream",
     "text": [
      "None\n"
     ]
    }
   ],
   "source": [
    "#utilise ça pour faire la grille: \n",
    "char = '┼ ─ |'\n",
    "\n",
    "#remplace le None par ton string de la grille\n",
    "grille = None\n",
    "print(grille)"
   ]
  },
  {
   "cell_type": "raw",
   "id": "83538379",
   "metadata": {},
   "source": [
    "Le résultat attendu\n",
    " | |\n",
    "─┼─┼─\n",
    " | | \n",
    "─┼─┼─\n",
    " | | \n"
   ]
  },
  {
   "cell_type": "markdown",
   "id": "53b92601",
   "metadata": {},
   "source": [
    "Pour représenter l'état du jeux, on va utiliser une liste de 9 éléments où chaque élément de la liste représente une case du morpion.\n",
    "\n",
    "Maintenant on v y aller par pallier. Je vais te donner une fonction à remplir. ça va prendre une liste de 9 éléments, et tu vas devoir retourner la grille en string en remplissant la grille avec les éléments qu'il y a dans la case de gauche à droite et de haut en bas.\n",
    "\n",
    "Pour vérifier que t'as bien fait, tu peux faire tourner la méthodes sur les 3 exemples et comparer ton résultats à la solution"
   ]
  },
  {
   "cell_type": "code",
   "execution_count": 6,
   "id": "273052d3",
   "metadata": {},
   "outputs": [],
   "source": [
    "def remplir_grille_ex1 (liste) :\n",
    "    #remplace pass par ta méthode\n",
    "    pass"
   ]
  },
  {
   "cell_type": "code",
   "execution_count": 7,
   "id": "3b043cc5",
   "metadata": {},
   "outputs": [],
   "source": [
    "print(remplir_grille_ex1(['0', '1', '2', '3', '4', '5', '6', '7', '8']))"
   ]
  },
  {
   "cell_type": "raw",
   "id": "c00b24eb",
   "metadata": {},
   "source": [
    "Solution:\n",
    "0|1|2\n",
    "─┼─┼─\n",
    "3|4|5\n",
    "─┼─┼─\n",
    "6|7|8"
   ]
  },
  {
   "cell_type": "code",
   "execution_count": null,
   "id": "dfc53e10",
   "metadata": {},
   "outputs": [],
   "source": [
    "print(remplir_grille_ex1(['a', 'ç', 'é', '?', '#', '+', '%', ';', ';']))"
   ]
  },
  {
   "cell_type": "raw",
   "id": "b0ca91ed",
   "metadata": {},
   "source": [
    "Solution:\n",
    "a|ç|é\n",
    "─┼─┼─\n",
    "?|#|+\n",
    "─┼─┼─\n",
    "%|;|;"
   ]
  },
  {
   "cell_type": "code",
   "execution_count": null,
   "id": "7d830c99",
   "metadata": {},
   "outputs": [],
   "source": [
    "print(remplir_grille_ex1([0, 1, 2, 3, 4, 5, 6, 7, 8]))"
   ]
  },
  {
   "cell_type": "raw",
   "id": "63a99459",
   "metadata": {},
   "source": [
    "Solution:\n",
    "0|1|2\n",
    "─┼─┼─\n",
    "3|4|5\n",
    "─┼─┼─\n",
    "6|7|8"
   ]
  },
  {
   "cell_type": "markdown",
   "id": "8828726d",
   "metadata": {},
   "source": [
    "La liste qu'on va utiliser est une liste où chaque élément peut prendre 3 valeurs différentes :\n",
    "- 0 si la case est vide, dans ce cas là on mettra l'index dans la case, c'est à dire le i tel que liste[i] représente la case (on va faire ça pour que ça soit facile de voir à quel entrée correspond cette case)\n",
    "- 1 si la case est rempli par le joueur 1, dans ce cas il y aura une croix (x) dans la grille\n",
    "- -1 si la case est rempli par le joueur 2, dans ce cas il y aura un rond (o) dans la grille\n",
    "\n",
    "Pour commencer, crée la fonction rempli_case qui prend en entrée une liste et un index i, et qui retourne l'élément à mettre dans la case selon la description ci-dessus"
   ]
  },
  {
   "cell_type": "code",
   "execution_count": null,
   "id": "7a52c82c",
   "metadata": {},
   "outputs": [],
   "source": [
    "def rempli_case(liste, i) :\n",
    "    pass\n",
    "\n",
    "for (liste, i, bonne_reponse) in [\n",
    "    [[0, 0, 0, 0, 0, 0, 0, 0, 0], 0, '0'],\n",
    "    [[-1, 0, 0, 0, 0, 0, 0, 0, 0], 0, 'o'],\n",
    "    [[1, 0, 0, 0, 0, 0, 0, 0, 0], 0, 'x'],\n",
    "    [[1, 1, 1, 1, 1, -1, 1, 1, 1], 5, 'o'],\n",
    "    [[1, 1, 1, 1, 1, 1, 1, 1, 1], 5, 'x'],\n",
    "    [[1, 1, 1, 1, 1, 0, 1, 1, 1], 5, '5'],\n",
    "    [[-1, -1, -1, -1, -1, -1, -1, -1, -1], 8, 'o'],\n",
    "    [[-1, -1, -1, -1, -1, -1, -1, -1, 0], 8, '8'],\n",
    "    [[-1, -1, -1, -1, -1, -1, -1, -1, 1], 8, 'x'],\n",
    "] :\n",
    "    test = rempli_case(liste, i)\n",
    "    assert test == bonne_reponse, \"La réponse pour \" +str(liste)+\", \"+str(i) +\" devait être '\"+bonne_reponse+\"' mais rempli_case retourne \" + str(test)\n",
    "print('exercie réussi')"
   ]
  },
  {
   "cell_type": "markdown",
   "id": "8eef66a6",
   "metadata": {},
   "source": [
    "Maintenant utilise cette fonction pour remplir la fonction qui remplit la grille complète comme décrit dans l’énoncé précédent"
   ]
  },
  {
   "cell_type": "code",
   "execution_count": null,
   "id": "eea26f1c",
   "metadata": {},
   "outputs": [],
   "source": [
    "def remplir_grille(liste) :\n",
    "    pass"
   ]
  },
  {
   "cell_type": "code",
   "execution_count": null,
   "id": "d0a5bc6a",
   "metadata": {},
   "outputs": [],
   "source": [
    "print(remplir_grille([0, 0, 0, 0, 0, 0, 0, 0, 0]))"
   ]
  },
  {
   "cell_type": "raw",
   "id": "50353f9a",
   "metadata": {},
   "source": [
    "Solution:\n",
    "0|1|2\n",
    "─┼─┼─\n",
    "3|4|5\n",
    "─┼─┼─\n",
    "6|7|8"
   ]
  },
  {
   "cell_type": "code",
   "execution_count": null,
   "id": "689b86f4",
   "metadata": {},
   "outputs": [],
   "source": [
    "print(remplir_grille([1, 1, 1, 1, 1, 1, 1, 1, 1]))"
   ]
  },
  {
   "cell_type": "raw",
   "id": "7146eec8",
   "metadata": {},
   "source": [
    "Solution:\n",
    "x|x|x\n",
    "─┼─┼─\n",
    "x|x|x\n",
    "─┼─┼─\n",
    "x|x|x"
   ]
  },
  {
   "cell_type": "code",
   "execution_count": null,
   "id": "23bc18ef",
   "metadata": {},
   "outputs": [],
   "source": [
    "print(remplir_grille([-1, -1, -1, -1, -1, -1, -1, -1, -1]))"
   ]
  },
  {
   "cell_type": "raw",
   "id": "2af23a9c",
   "metadata": {},
   "source": [
    "Solution:\n",
    "o|o|o\n",
    "─┼─┼─\n",
    "o|o|o\n",
    "─┼─┼─\n",
    "o|o|o"
   ]
  },
  {
   "cell_type": "code",
   "execution_count": null,
   "id": "bb395c51",
   "metadata": {},
   "outputs": [],
   "source": [
    "print(remplir_grille([1, 1, -1, 0, 0, 0, -1, 1, 0]))"
   ]
  },
  {
   "cell_type": "raw",
   "id": "39939732",
   "metadata": {},
   "source": [
    "Solution:\n",
    "x|x|o\n",
    "─┼─┼─\n",
    "3|4|5\n",
    "─┼─┼─\n",
    "o|x|8"
   ]
  },
  {
   "cell_type": "markdown",
   "id": "620b4a5e",
   "metadata": {},
   "source": [
    "2. input\n",
    "\n",
    "L'input est une fonction qui demande à l'utilisateur de rentrer du texte et qui le sauvegarde dans une variable, par exemple run la case suivante, rempli le champ avec ce que tu veux, appuie sur entrée, et regarde ce qui arrive"
   ]
  },
  {
   "cell_type": "code",
   "execution_count": null,
   "id": "d88e4301",
   "metadata": {},
   "outputs": [],
   "source": [
    "x = input()\n",
    "print('la valeur donnée en input est: ' + x)"
   ]
  },
  {
   "cell_type": "markdown",
   "id": "842fc8d6",
   "metadata": {},
   "source": [
    "Exercice input :\\\n",
    "dans la case suivante, fait en sorte de pouvoir prendre 2 mots avec input et print :\n",
    "\n",
    "1er mot : \"(la première input là)\" et 2e mot : \"(la 2e input là)\""
   ]
  },
  {
   "cell_type": "code",
   "execution_count": 3,
   "id": "448462d9",
   "metadata": {},
   "outputs": [],
   "source": [
    "#Fait l'exercice ci-dessous\n"
   ]
  },
  {
   "cell_type": "markdown",
   "id": "3ae03999",
   "metadata": {},
   "source": [
    "Maintenant on a un peu près tout pour faire un morpion simplifié. Donc on va commencer par faire le tour du 1er joueur:\n",
    "\n",
    "Sous remplir écrit un code qui prenne l'input du premier tour (c'est à dire le numéro de la case) et remplit la grille de façon à ce que le morpion affiche une croix pour le premier joueur. "
   ]
  },
  {
   "cell_type": "code",
   "execution_count": null,
   "id": "355a9083",
   "metadata": {},
   "outputs": [],
   "source": [
    "grille = [0, 0, 0, 0, 0, 0, 0, 0, 0]\n",
    "\n",
    "print(remplir_grille(grille))\n",
    "premier_tour_rond = input()\n",
    "\n",
    "#remplir\n",
    "\n",
    "\n",
    "\n",
    "clear_output()\n",
    "print(remplir_grille(grille))"
   ]
  },
  {
   "cell_type": "markdown",
   "id": "256554ae",
   "metadata": {},
   "source": [
    "Maintenant remplace le None dans la boucle for et remplis le code de façon à ce que les 2 joueurs puisse jouer son premier tour. Le premier joueur mettra une croix et le deuxième un rond"
   ]
  },
  {
   "cell_type": "code",
   "execution_count": null,
   "id": "4a01587f",
   "metadata": {},
   "outputs": [],
   "source": [
    "grille = [0, 0, 0, 0, 0, 0, 0, 0, 0]\n",
    "\n",
    "print(remplir_grille(grille))\n",
    "for quel_joueur in None :\n",
    "    tour = input()\n",
    "\n",
    "    #remplir\n",
    "\n",
    "    \n",
    "    clear_output()\n",
    "    print(remplir_grille(grille))"
   ]
  },
  {
   "cell_type": "markdown",
   "id": "d5f18c2d",
   "metadata": {},
   "source": [
    "Maintenant on va faire un jeux de morpion simplifié:\n",
    "\n",
    "Tu sais comment faire un tour, il suffit juste de le répéter de façon à ce que les 2 joueurs puissent jouer l'un après l'autre.\n",
    "\n",
    "Pour le moment ne t'occupes pas d'interrompre le jeux si quelqu'un gagne, contente toi juste de faire jouer les joueurs l'un après l'autre jusqu'à ce que la grille soit rempli.\n",
    "\n",
    "Si à un moment tu veux arrêter le jeux, appuie sur le carré en haut (interrupt the kernel)"
   ]
  },
  {
   "cell_type": "code",
   "execution_count": null,
   "id": "ec241da3",
   "metadata": {},
   "outputs": [],
   "source": [
    "grille = [0, 0, 0, 0, 0, 0, 0, 0, 0]\n",
    "quel_joueur = 1\n",
    "\n",
    "print(remplir_grille(grille))\n",
    "for tour in range(9):\n",
    "    print('Tour ' + str(tour) + ':')\n",
    "    \n",
    "    #à remplir\n",
    "    \n",
    "    clear_output()\n",
    "    print(remplir_grille(grille))"
   ]
  },
  {
   "cell_type": "markdown",
   "id": "97b5b8b5",
   "metadata": {},
   "source": [
    "Pour le moment on a un morpion simplifié, mais il ne s'arrête pas si quelqu'un gagne, on peut remplacer les marques des autres joueurs et il crash sur une mauvaise input. Les prochains exercices ont pour but de créer ces méthodes qui permettront d'avoir un meilleur morpion"
   ]
  },
  {
   "cell_type": "markdown",
   "id": "4d1520f4",
   "metadata": {},
   "source": [
    "Pour la suite, il va pouvoir être util de s'arrêter au milieux d'un boucle for (notamment si un joueur a gagné), donc je vais introduire ici la fonction break qui permet d'arrêter une boucle : "
   ]
  },
  {
   "cell_type": "code",
   "execution_count": 2,
   "id": "b23d0765",
   "metadata": {},
   "outputs": [
    {
     "name": "stdout",
     "output_type": "stream",
     "text": [
      "0\n"
     ]
    }
   ],
   "source": [
    "#exemple : stop à la 1ère itération\n",
    "for i in range(10) :\n",
    "    print(i)\n",
    "    break"
   ]
  },
  {
   "cell_type": "code",
   "execution_count": 3,
   "id": "143009fe",
   "metadata": {},
   "outputs": [
    {
     "name": "stdout",
     "output_type": "stream",
     "text": [
      "0\n",
      "1\n",
      "2\n",
      "3\n",
      "4\n",
      "5\n"
     ]
    }
   ],
   "source": [
    "#exemple numéro 2: stop à l'itération 5\n",
    "for i in range(10) :\n",
    "    print(i)\n",
    "    if i == 5 :\n",
    "        break"
   ]
  },
  {
   "cell_type": "markdown",
   "id": "d5a8c452",
   "metadata": {},
   "source": [
    "Entraîne toi à l'utilisation de break en remplissant les exercices sans changer quoique ce soit du reste du code et en utilisant break pout quitter la boucle au bon moment.\n",
    "\n",
    "Premier exercice: étant donné une liste et une limite basse, arrête la boucle si l'élément de l'itération est plus grand ou égal à la limite basse"
   ]
  },
  {
   "cell_type": "code",
   "execution_count": null,
   "id": "43318fc8",
   "metadata": {},
   "outputs": [],
   "source": [
    "def break_exo1(liste, limite_basse):\n",
    "    l = []\n",
    "    for x in liste :\n",
    "        #à remplir\n",
    "        \n",
    "        l += [x]\n",
    "        \n",
    "    return l\n",
    "\n",
    "for liste, limite_basse, solution in [\n",
    "    [[0,1,2,3,4,5], 3, [0,1,2]],\n",
    "    [[1, 50, 30, 150, 0, 0, 0], 100 , [1, 50, 30]],\n",
    "    [[10, 20, 30, 40, 50, 60, 70], 71, [10, 20, 30, 40, 50, 60, 70]],\n",
    "    [[10, 20, 30, 40, 50, 60, 70], 0, []],\n",
    "]:\n",
    "    assert break_exo1(liste, limite_basse) == solution, 'pour l\\'input '+str(liste)+ ', '+ str(limite_basse) + ' on voulait ' + str(solution) + ' mais le résultat est '+ str(break_exo1(liste, limite_basse))\n",
    "    \n",
    "print('exercie réussi')"
   ]
  },
  {
   "cell_type": "markdown",
   "id": "e2f2d6c3",
   "metadata": {},
   "source": [
    "2eme exercice de break : étant donné 2 listes, arrêtes la boucle si les 2 éléments des listes (x et y) sont égaux"
   ]
  },
  {
   "cell_type": "code",
   "execution_count": null,
   "id": "9f26787c",
   "metadata": {},
   "outputs": [],
   "source": [
    "def break_exo2(liste1, liste2):\n",
    "    for i in range(len(liste1)) :\n",
    "        x = liste1[i]\n",
    "        y = liste2[i]\n",
    "        \n",
    "        #à remplir\n",
    "        \n",
    "        \n",
    "    return i\n",
    "        \n",
    "for liste1, liste2, solution in [\n",
    "    [[0, 1, 2, 3, 4, 6], [1, 2, 3, 4, 5, 6], 5],\n",
    "    [[0, 1, 2, 3, 4, 6], [0, 2, 3, 4, 5, 6], 0],\n",
    "    [[0, 1, 1050, 3, 4, 6], [1, 2, 1050, 4, 5, 6], 2],\n",
    "] :\n",
    "    assert break_exo2(liste1, liste2) == solution, 'pour l\\'input '+str(liste1)+ ', '+ str(liste2) + ' on voulait ' + str(solution) + ' mais le résultat est '+ str(break_exo2(liste1, liste2))\n",
    "    \n",
    "print('exercie réussi')"
   ]
  },
  {
   "cell_type": "markdown",
   "id": "a715c549",
   "metadata": {},
   "source": [
    "Maintenant on va créer une méthode qui prend une liste qui représente un morpion et on va retourner :\n",
    "\n",
    "- 1 si le joueur croix (représenté par des 1 dans le tableau) a gagné\n",
    "- -1 si le joueur rond (représenté par des -1 dans le tableau) a gagné\n",
    "- 0 si aucun des joueurs n'a gagné\n",
    "\n",
    "Rappel qu'un joueur a gagné si et seulement si il a ses 3 symbole sur une ligne, une colone ou une diagonale\n",
    "\n",
    "Indice :\n",
    "\n",
    "penses à utiliser des boucles si nécessaires\\\n",
    "plutôt que de faire la comparaison case par case, il est plus simple de faire une addition et de comparer ce résultats au résultat attendu si l'un et l'autre des joueurs ont gagnés."
   ]
  },
  {
   "cell_type": "code",
   "execution_count": null,
   "id": "b08f95a8",
   "metadata": {},
   "outputs": [],
   "source": [
    "def est_fini(liste) :\n",
    "    pass\n",
    "\n",
    "for liste, solution in [\n",
    "    [[0, 0, 0, 0, 0, 0, 0, 0, 0], 0],\n",
    "    [[1, 1, 1, -1, 1, 0, -1, -1, 0], 1],\n",
    "    [[-1, 1, 0, 1, 1, 1, -1, -1, 0], 1],\n",
    "    [[-1, -1, 0, -1, 1, 0, 1, 1, 1], 1],\n",
    "    [[-1, -1, 1, -1, 1, 1, 0, 0, 1], 1],\n",
    "    [[-1, 1, -1, 1, 1, -1, 0, 1, 0], 1],\n",
    "    [[1, -1, -1, 1, -1, 1, 1, 0, 0], 1],\n",
    "    [[0, 0, 1, 0, 1, 0, 1, 0, 0], 1],\n",
    "    [[1, 0, 0, 0, 1, 0, 0, 0, 1], 1],\n",
    "    [[1, 1, -1, -1, 1, 0, 1, -1, 1], 1],\n",
    "    [[1, 1, -1, -1, -1, 0, 1, -1, 1], 0],\n",
    "    [[-1, 1, -1, -1, 1, -1, 1, -1, 1], 0],\n",
    "    [[-1, 1, -1, -1, 0, -1, 1, -1, 1], 0],\n",
    "] :\n",
    "    assert est_fini(liste) == solution, 'pour l\\'input '+str(liste)+ ' on voulait ' + str(solution) + ' mais le résultat est '+ str(est_fini(liste))\n",
    "    alt_list = [ -x for x in liste]\n",
    "    assert est_fini(alt_list) == solution * -1, 'pour l\\'input '+str(alt_list)+ ' on voulait ' + str(solution * -1) + ' mais le résultat est '+ str(est_fini(alt_list))\n",
    "    \n",
    "print('exercie réussi')"
   ]
  },
  {
   "cell_type": "markdown",
   "id": "e670a06e",
   "metadata": {},
   "source": [
    "On va créer une fonction qui va traiter l'input, et gérer quelque soit l'input. On prend une input inp et :\n",
    "\n",
    "- si l'input est un nombre en string entre 0 et 8 inclus, retourne le nombre en int \n",
    "- sinon retourne -1\n",
    "\n",
    "Attention: pour quand tu vas assembler le morpion, liste[-1] ça prend le dernier élément de la liste"
   ]
  },
  {
   "cell_type": "code",
   "execution_count": null,
   "id": "d2843a99",
   "metadata": {},
   "outputs": [],
   "source": [
    "def test_input(inp):\n",
    "    #fait l'exercice ici\n",
    "    pass\n",
    "\n",
    "\n",
    "for i in range(9) :\n",
    "    assert test_input(str(i)) == i, 'on voulait ' + str(i) + ' mais le résultat est '+ str(test_input(str(i)))\n",
    "for inp in ['9', '10', '-1', 'bonjour', 'teste ça', 'lol'] :\n",
    "    assert test_input(inp) == -1, 'on voulait -1 mais le résultat est '+ str(test_input(inp))\n",
    "for i in range(9) :\n",
    "    for lettre in 'abcdèé()':\n",
    "        for inp in [str(i) + lettre, lettre + str(i)] :\n",
    "            assert test_input(inp) == -1, 'on voulait -1 mais le résultat est '+ str(test_input(inp))\n",
    "            \n",
    "print('exercie réussi')"
   ]
  },
  {
   "cell_type": "markdown",
   "id": "cc69ae49",
   "metadata": {},
   "source": [
    "Maintenant on va créer une fonction qui va checker si on peut remplir une case ou s'il elle est déjà occuper. Donc étant donné une liste qui représente une grille de morpion, un indice i de la case qu'on veut changer, et une valeur qu'on veut changer :\n",
    "\n",
    "- Si la case est vide (il y a un 0 dedans) mets à jour la liste, et retourne True\n",
    "- Si la case n'est pas vide (1 ou -1) retourne False sans avoir changer la liste"
   ]
  },
  {
   "cell_type": "code",
   "execution_count": null,
   "id": "ba5bab21",
   "metadata": {},
   "outputs": [],
   "source": [
    "def rempli_si_vide (liste, i, valeur) :\n",
    "    pass\n",
    "\n",
    "for liste, i, valeur, nouvel_liste, solution in [\n",
    "    [[1, 1, 1, -1, 1, 0, -1, -1, 0], 1, 1, [1, 1, 1, -1, 1, 0, -1, -1, 0], False],\n",
    "    [[1, 1, 1, -1, 1, 0, -1, -1, 0], 1, -1, [1, 1, 1, -1, 1, 0, -1, -1, 0], False],\n",
    "    [[1, 1, 1, -1, 1, 0, -1, -1, 0], 5, 1, [1, 1, 1, -1, 1, 1, -1, -1, 0], True],\n",
    "    [[1, 1, 1, -1, 1, 0, -1, -1, 0], 5, -1, [1, 1, 1, -1, 1, -1, -1, -1, 0], True],\n",
    "    [[1, 1, 1, -1, 1, 0, -1, -1, 0], 3, 1, [1, 1, 1, -1, 1, 0, -1, -1, 0], False],\n",
    "    [[1, 1, 1, -1, 1, 0, -1, -1, 0], 3, -1, [1, 1, 1, -1, 1, 0, -1, -1, 0], False],\n",
    "    [[1, 1, 1, -1, 1, 0, -1, -1, 0], 8, 1, [1, 1, 1, -1, 1, 0, -1, -1, 1], True],\n",
    "    [[1, 1, 1, -1, 1, 0, -1, -1, 0], 8, -1, [1, 1, 1, -1, 1, 0, -1, -1, -1], True],\n",
    "] :\n",
    "    res = rempli_si_vide (liste, i, valeur)\n",
    "    assert liste == nouvel_liste, 'pour l\\'input '+ str(liste)+ ', '+ str(i) + ', '+ str(valeur) + ' on voulait que la liste soit '+ str(nouvel_liste) + ' mais le résultat est '+ str(liste)\n",
    "    assert res == solution, 'pour l\\'input '+ str(liste)+ ', '+ str(i) + ', '+ str(valeur) + ' on voulait que le résultat soit '+ str(solution) + ' mais le résultat est '+ str(res)\n",
    "    \n",
    "print('exercie réussi')"
   ]
  },
  {
   "cell_type": "markdown",
   "id": "2af4ca09",
   "metadata": {},
   "source": [
    "Maintenant tu as tout ce qu'il faut pour faire un morpion. Utilise la base de morpion fait plus haut et les 3 fonctions que tu viens de faire (n'oublie pas de run leurs cases pour créer les fonctions) pour faire un morpion complet tel que :\n",
    "\n",
    "- On peut remplir toutes les cases\n",
    "- Où, si un joueur gagne, le match s'arrête\n",
    "- On ne peut pas remplacer une croix ou un rond dans la grille\n",
    "- Un joueur doit rentrer des inputs jusqu'à ce que l'input soit valide, c'est à dire jusqu'à ce que l'input représente un nombre entre 0 et 8 en string de tel façon que l'index de ce nombre dans la grille soit vide (c'est à dire == 0)\n",
    "\n",
    "Tu fera ça en remplissant le code sous \"à remplir\"\n",
    "\n",
    "Une fois cela fait, tu remplira sous \"remplir ici le message de victoire\", un bout de code qui print le message de victoire :\n",
    "\n",
    "- \"match nul\" si personne n'a gagné\n",
    "- \"le gagnant est le joueur x\" si le joueur avec des x (représenté par des 1) a gagné\n",
    "- \"le gagnant est le joueur o\" si le joueur avec des o (représenté par des -1) a gagné\n",
    "\n"
   ]
  },
  {
   "cell_type": "code",
   "execution_count": null,
   "id": "be96c2d4",
   "metadata": {},
   "outputs": [],
   "source": [
    "grille = [0, 0, 0, 0, 0, 0, 0, 0, 0]\n",
    "quel_joueur = 1\n",
    "gagnant = 0\n",
    "\n",
    "print(remplir_grille(grille))\n",
    "for tour in range(9):\n",
    "    print('Tour ' + str(tour) + ':')\n",
    "    \n",
    "    #à remplir\n",
    "    \n",
    "    \n",
    "    clear_output()\n",
    "    print(remplir_grille(grille))\n",
    "    \n",
    "    \n",
    "clear_output()\n",
    "print(remplir_grille(grille))\n",
    "#remplir ici le message de victoire\n"
   ]
  }
 ],
 "metadata": {
  "kernelspec": {
   "display_name": "Python 3 (ipykernel)",
   "language": "python",
   "name": "python3"
  },
  "language_info": {
   "codemirror_mode": {
    "name": "ipython",
    "version": 3
   },
   "file_extension": ".py",
   "mimetype": "text/x-python",
   "name": "python",
   "nbconvert_exporter": "python",
   "pygments_lexer": "ipython3",
   "version": "3.11.0"
  },
  "vscode": {
   "interpreter": {
    "hash": "178ebf2a339009f7ee1035e830ea7728bc6b8d29e10a2429822243a74bf22462"
   }
  }
 },
 "nbformat": 4,
 "nbformat_minor": 5
}
