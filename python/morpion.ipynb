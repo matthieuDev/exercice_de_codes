{
 "cells": [
  {
   "cell_type": "markdown",
   "id": "2beb45e0",
   "metadata": {},
   "source": []
  },
  {
   "cell_type": "markdown",
   "id": "c07771a5",
   "metadata": {},
   "source": [
    "On va commencer par afficher la grille.\n",
    "\n",
    "La grille est sur plusieurs ligne. Pour faire ça en 1 string, on utilise le charctère \\n"
   ]
  },
  {
   "cell_type": "code",
   "execution_count": 1,
   "id": "a1e75d94",
   "metadata": {},
   "outputs": [
    {
     "name": "stdout",
     "output_type": "stream",
     "text": [
      "première ligne\n",
      "deuxièmeligne\n",
      "troisième ligne\n"
     ]
    }
   ],
   "source": [
    "print('première ligne\\ndeuxièmeligne\\ntroisième ligne')"
   ]
  },
  {
   "cell_type": "raw",
   "id": "83538379",
   "metadata": {},
   "source": [
    "Le résultat attendu\n",
    " | |\n",
    "─┼─┼─\n",
    " | | \n",
    "─┼─┼─\n",
    " | | \n"
   ]
  },
  {
   "cell_type": "code",
   "execution_count": 5,
   "id": "8e61f8fc",
   "metadata": {},
   "outputs": [
    {
     "name": "stdout",
     "output_type": "stream",
     "text": [
      "None\n"
     ]
    }
   ],
   "source": [
    "#utilise ça pour faire la grille: \n",
    "char = '┼ ─ |'\n",
    "\n",
    "#remplace le None par ton string de la grille\n",
    "grille = \n",
    "print(grille)"
   ]
  },
  {
   "cell_type": "markdown",
   "id": "53b92601",
   "metadata": {},
   "source": [
    "Pour représenter l'état du jeux, on va utiliser une liste de 9 éléments où chaque élément de la liste représente une case du morpion.\n",
    "\n",
    "Maintenant on v y aller par pallier. Je vais te donner une fonction à remplir. ça va prendre une liste de 9 éléments, et tu vas devoir retourner la grille en string en remplissant la grille avec les éléments qu'il y adans la case degauche à droite et de haut en bas.\n",
    "\n",
    "Pour vérifier que t'as bien fait, tu peux faire tourner la méthodes sur les 2 exemples et comparer ton résultats à la solution"
   ]
  },
  {
   "cell_type": "code",
   "execution_count": 6,
   "id": "273052d3",
   "metadata": {},
   "outputs": [],
   "source": [
    "def remplir_grille_ex1 (liste) :\n",
    "    #remplace pass par ta méthode\n",
    "    pass"
   ]
  },
  {
   "cell_type": "code",
   "execution_count": 7,
   "id": "3b043cc5",
   "metadata": {},
   "outputs": [],
   "source": [
    "remplir_grille_ex1(['0', '1', '2', '3', '4', '5', '6', '7', '8'])"
   ]
  },
  {
   "cell_type": "raw",
   "id": "c00b24eb",
   "metadata": {},
   "source": [
    "Solution:\n",
    "0|1|2\n",
    "─┼─┼─\n",
    "3|4|5\n",
    "─┼─┼─\n",
    "6|7|8"
   ]
  },
  {
   "cell_type": "code",
   "execution_count": null,
   "id": "dfc53e10",
   "metadata": {},
   "outputs": [],
   "source": [
    "remplir_grille_ex1(['a', 'ç', 'é', '?', '#', '+', '%', ';', ';'])"
   ]
  },
  {
   "cell_type": "raw",
   "id": "b0ca91ed",
   "metadata": {},
   "source": [
    "Solution:\n",
    "a|ç|é\n",
    "─┼─┼─\n",
    "?|#|+\n",
    "─┼─┼─\n",
    "%|;|;"
   ]
  },
  {
   "cell_type": "code",
   "execution_count": null,
   "id": "7d830c99",
   "metadata": {},
   "outputs": [],
   "source": [
    "remplir_grille_ex1([0, 1, 2, 3, 4, 5, 6, 7, 8])"
   ]
  },
  {
   "cell_type": "raw",
   "id": "63a99459",
   "metadata": {},
   "source": [
    "Solution:\n",
    "0|1|2\n",
    "─┼─┼─\n",
    "3|4|5\n",
    "─┼─┼─\n",
    "6|7|8"
   ]
  },
  {
   "cell_type": "markdown",
   "id": "8828726d",
   "metadata": {},
   "source": [
    "La liste qu'on va utiliser est une liste où chaque élément peut prendre 3 valeurs différentes :\n",
    "- 0 si la case est vide, dans ce cas là on mettra l'index dans la case, c'est à dire le i tel que liste[i] représente la case (on va faire ça pour que ça soit facile de voir à quel entrée correspond cette case)\n",
    "- 1 si la case est rempli par le joueur 1, dans ce cas il y aura une croix (x) dans la grille\n",
    "- -1 si la case est rempli par le joueur 2, dans ce cas il y aura un rond (o) dans la grille\n",
    "\n",
    "Pour commencer, crée la fonction rempli_case qui prend en entrée une liste et un index i, et qui retournel'élément à mettre dans la case selone la la description ci-dessus"
   ]
  },
  {
   "cell_type": "code",
   "execution_count": null,
   "id": "7a52c82c",
   "metadata": {},
   "outputs": [],
   "source": [
    "def rempli_case(liste, i) :\n",
    "    pass\n",
    "\n",
    "for (liste, i, bonne_reponse) in [\n",
    "    [[0, 0, 0, 0, 0, 0, 0, 0, 0], 0, '0'],\n",
    "    [[-1, 0, 0, 0, 0, 0, 0, 0, 0], 0, 'o'],\n",
    "    [[1, 0, 0, 0, 0, 0, 0, 0, 0], 0, 'x'],\n",
    "    [[1, 1, 1, 1, 1, -1, 1, 1, 1], 5, 'o'],\n",
    "    [[1, 1, 1, 1, 1, 1, 1, 1, 1], 5, 'x'],\n",
    "    [[1, 1, 1, 1, 1, 0, 1, 1, 1], 5, '5'],\n",
    "    [[-1, -1, -1, -1, -1, -1, -1, -1, -1], 8, 'o'],\n",
    "    [[-1, -1, -1, -1, -1, -1, -1, -1, -1], 8, '8'],\n",
    "    [[-1, -1, -1, -1, -1, -1, -1, -1, 1], 8, 'x'],\n",
    "] :\n",
    "    test = rempli_case(liste, i)\n",
    "    assert test == bonne_reponse, \"La réponse pour\" +str(liste)+\", \"+str(i) +\" devait être '0' mais rempli_case retourne \" + str(test)\n"
   ]
  },
  {
   "cell_type": "markdown",
   "id": "8eef66a6",
   "metadata": {},
   "source": [
    "Maintenant utilise cette fonction pour cremplir la fonction qui remplit la grille comme décrit dans l'enoncé précédent"
   ]
  },
  {
   "cell_type": "code",
   "execution_count": null,
   "id": "eea26f1c",
   "metadata": {},
   "outputs": [],
   "source": [
    "def remplir_grille(liste) :\n",
    "    pass"
   ]
  },
  {
   "cell_type": "code",
   "execution_count": null,
   "id": "d0a5bc6a",
   "metadata": {},
   "outputs": [],
   "source": [
    "print(remplir_grille([0, 0, 0, 0, 0, 0, 0, 0, 0]))"
   ]
  },
  {
   "cell_type": "raw",
   "id": "50353f9a",
   "metadata": {},
   "source": [
    "Solution:\n",
    "0|1|2\n",
    "─┼─┼─\n",
    "3|4|5\n",
    "─┼─┼─\n",
    "6|7|8"
   ]
  },
  {
   "cell_type": "code",
   "execution_count": null,
   "id": "689b86f4",
   "metadata": {},
   "outputs": [],
   "source": [
    "print(remplir_grille([1, 1, 1, 1, 1, 1, 1, 1, 1]))"
   ]
  },
  {
   "cell_type": "raw",
   "id": "7146eec8",
   "metadata": {},
   "source": [
    "Solution:\n",
    "x|x|x\n",
    "─┼─┼─\n",
    "x|x|x\n",
    "─┼─┼─\n",
    "x|x|x"
   ]
  },
  {
   "cell_type": "code",
   "execution_count": null,
   "id": "23bc18ef",
   "metadata": {},
   "outputs": [],
   "source": [
    "print(remplir_grille([-1, -1, -1, -1, -1, -1, -1, -1, -1]))"
   ]
  },
  {
   "cell_type": "markdown",
   "id": "b399e535",
   "metadata": {},
   "source": [
    "Solution:\n",
    "o|o|o\n",
    "─┼─┼─\n",
    "o|o|o\n",
    "─┼─┼─\n",
    "o|o|o"
   ]
  },
  {
   "cell_type": "code",
   "execution_count": null,
   "id": "bb395c51",
   "metadata": {},
   "outputs": [],
   "source": [
    "print(remplir_grille([1, 1, -1, 0, 0, 0, -1, 1, 0]))"
   ]
  },
  {
   "cell_type": "raw",
   "id": "39939732",
   "metadata": {},
   "source": [
    "Solution:\n",
    "x|x|o\n",
    "─┼─┼─\n",
    "3|4|5\n",
    "─┼─┼─\n",
    "o|x|8"
   ]
  },
  {
   "cell_type": "code",
   "execution_count": null,
   "id": "3d9fd868",
   "metadata": {},
   "outputs": [],
   "source": []
  }
 ],
 "metadata": {
  "kernelspec": {
   "display_name": "Python 3 (ipykernel)",
   "language": "python",
   "name": "python3"
  },
  "language_info": {
   "codemirror_mode": {
    "name": "ipython",
    "version": 3
   },
   "file_extension": ".py",
   "mimetype": "text/x-python",
   "name": "python",
   "nbconvert_exporter": "python",
   "pygments_lexer": "ipython3",
   "version": "3.11.0"
  }
 },
 "nbformat": 4,
 "nbformat_minor": 5
}
